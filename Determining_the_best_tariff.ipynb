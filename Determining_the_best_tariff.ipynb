{
  "nbformat": 4,
  "nbformat_minor": 0,
  "metadata": {
    "kernelspec": {
      "display_name": "Python 3",
      "language": "python",
      "name": "python3"
    },
    "language_info": {
      "codemirror_mode": {
        "name": "ipython",
        "version": 3
      },
      "file_extension": ".py",
      "mimetype": "text/x-python",
      "name": "python",
      "nbconvert_exporter": "python",
      "pygments_lexer": "ipython3",
      "version": "3.7.8"
    },
    "toc": {
      "base_numbering": 1,
      "nav_menu": {},
      "number_sections": true,
      "sideBar": true,
      "skip_h1_title": true,
      "title_cell": "Table of Contents",
      "title_sidebar": "Contents",
      "toc_cell": false,
      "toc_position": {},
      "toc_section_display": true,
      "toc_window_display": false
    },
    "colab": {
      "name": "Determining the best tariff.ipynb",
      "provenance": []
    }
  },
  "cells": [
    {
      "cell_type": "markdown",
      "metadata": {
        "id": "QNgXg49OhkgX"
      },
      "source": [
        "<div>\n",
        "    \n",
        "<b> Описание проекта</b>\n",
        "    \n",
        "В данном преокте необходимо сделать предварительный анализ тарифов на небольшой выборке клиентов. Исходные данные - 500 пользователей «Мегалайна»: кто они, откуда, каким тарифом пользуются, сколько звонков и сообщений каждый отправил за 2018 год. Нужно проанализировать поведение клиентов и сделать вывод — какой тариф лучше для компании.\n",
        "    \n",
        "Данный проект состоит из четырех основных частей:\n",
        "    \n",
        "* Открытие файла и подготовка данных\n",
        "* Анализ обработанных данных\n",
        "* Проверка гипотез\n",
        "* Общий вывод\n",
        "    \n",
        "</div>"
      ]
    },
    {
      "cell_type": "markdown",
      "metadata": {
        "id": "gHWm5aHnhkgX"
      },
      "source": [
        "Открытие файла и подготовка данных\n",
        "========"
      ]
    },
    {
      "cell_type": "code",
      "metadata": {
        "id": "i6xbykQthkgZ"
      },
      "source": [
        "import pandas as pd\n",
        "import numpy as np\n",
        "from scipy import stats as st"
      ],
      "execution_count": null,
      "outputs": []
    },
    {
      "cell_type": "code",
      "metadata": {
        "id": "56hLlRsNhkgZ"
      },
      "source": [
        "import warnings\n",
        "warnings.simplefilter('ignore')"
      ],
      "execution_count": null,
      "outputs": []
    },
    {
      "cell_type": "code",
      "metadata": {
        "id": "l7w6rIiIhkga",
        "outputId": "6082d0f1-fe12-4045-bb64-9575bcd471ea"
      },
      "source": [
        "df_1 = pd.read_csv('/datasets/calls.csv')\n",
        "print(df_1.info())\n",
        "print()\n",
        "df_1.head()"
      ],
      "execution_count": null,
      "outputs": [
        {
          "output_type": "stream",
          "text": [
            "<class 'pandas.core.frame.DataFrame'>\n",
            "RangeIndex: 202607 entries, 0 to 202606\n",
            "Data columns (total 4 columns):\n",
            "id           202607 non-null object\n",
            "call_date    202607 non-null object\n",
            "duration     202607 non-null float64\n",
            "user_id      202607 non-null int64\n",
            "dtypes: float64(1), int64(1), object(2)\n",
            "memory usage: 6.2+ MB\n",
            "None\n",
            "\n"
          ],
          "name": "stdout"
        },
        {
          "output_type": "execute_result",
          "data": {
            "text/html": [
              "<div>\n",
              "<style scoped>\n",
              "    .dataframe tbody tr th:only-of-type {\n",
              "        vertical-align: middle;\n",
              "    }\n",
              "\n",
              "    .dataframe tbody tr th {\n",
              "        vertical-align: top;\n",
              "    }\n",
              "\n",
              "    .dataframe thead th {\n",
              "        text-align: right;\n",
              "    }\n",
              "</style>\n",
              "<table border=\"1\" class=\"dataframe\">\n",
              "  <thead>\n",
              "    <tr style=\"text-align: right;\">\n",
              "      <th></th>\n",
              "      <th>id</th>\n",
              "      <th>call_date</th>\n",
              "      <th>duration</th>\n",
              "      <th>user_id</th>\n",
              "    </tr>\n",
              "  </thead>\n",
              "  <tbody>\n",
              "    <tr>\n",
              "      <td>0</td>\n",
              "      <td>1000_0</td>\n",
              "      <td>2018-07-25</td>\n",
              "      <td>0.00</td>\n",
              "      <td>1000</td>\n",
              "    </tr>\n",
              "    <tr>\n",
              "      <td>1</td>\n",
              "      <td>1000_1</td>\n",
              "      <td>2018-08-17</td>\n",
              "      <td>0.00</td>\n",
              "      <td>1000</td>\n",
              "    </tr>\n",
              "    <tr>\n",
              "      <td>2</td>\n",
              "      <td>1000_2</td>\n",
              "      <td>2018-06-11</td>\n",
              "      <td>2.85</td>\n",
              "      <td>1000</td>\n",
              "    </tr>\n",
              "    <tr>\n",
              "      <td>3</td>\n",
              "      <td>1000_3</td>\n",
              "      <td>2018-09-21</td>\n",
              "      <td>13.80</td>\n",
              "      <td>1000</td>\n",
              "    </tr>\n",
              "    <tr>\n",
              "      <td>4</td>\n",
              "      <td>1000_4</td>\n",
              "      <td>2018-12-15</td>\n",
              "      <td>5.18</td>\n",
              "      <td>1000</td>\n",
              "    </tr>\n",
              "  </tbody>\n",
              "</table>\n",
              "</div>"
            ],
            "text/plain": [
              "       id   call_date  duration  user_id\n",
              "0  1000_0  2018-07-25      0.00     1000\n",
              "1  1000_1  2018-08-17      0.00     1000\n",
              "2  1000_2  2018-06-11      2.85     1000\n",
              "3  1000_3  2018-09-21     13.80     1000\n",
              "4  1000_4  2018-12-15      5.18     1000"
            ]
          },
          "metadata": {
            "tags": []
          },
          "execution_count": 3
        }
      ]
    },
    {
      "cell_type": "code",
      "metadata": {
        "id": "K2g0W8DZhkgb",
        "outputId": "355865a3-eb9a-45a0-e8e2-aaca4cd330f2"
      },
      "source": [
        "df_1['duration'] = df_1['duration'].apply(np.ceil)\n",
        "df_1.head()"
      ],
      "execution_count": null,
      "outputs": [
        {
          "output_type": "execute_result",
          "data": {
            "text/html": [
              "<div>\n",
              "<style scoped>\n",
              "    .dataframe tbody tr th:only-of-type {\n",
              "        vertical-align: middle;\n",
              "    }\n",
              "\n",
              "    .dataframe tbody tr th {\n",
              "        vertical-align: top;\n",
              "    }\n",
              "\n",
              "    .dataframe thead th {\n",
              "        text-align: right;\n",
              "    }\n",
              "</style>\n",
              "<table border=\"1\" class=\"dataframe\">\n",
              "  <thead>\n",
              "    <tr style=\"text-align: right;\">\n",
              "      <th></th>\n",
              "      <th>id</th>\n",
              "      <th>call_date</th>\n",
              "      <th>duration</th>\n",
              "      <th>user_id</th>\n",
              "    </tr>\n",
              "  </thead>\n",
              "  <tbody>\n",
              "    <tr>\n",
              "      <td>0</td>\n",
              "      <td>1000_0</td>\n",
              "      <td>2018-07-25</td>\n",
              "      <td>0.0</td>\n",
              "      <td>1000</td>\n",
              "    </tr>\n",
              "    <tr>\n",
              "      <td>1</td>\n",
              "      <td>1000_1</td>\n",
              "      <td>2018-08-17</td>\n",
              "      <td>0.0</td>\n",
              "      <td>1000</td>\n",
              "    </tr>\n",
              "    <tr>\n",
              "      <td>2</td>\n",
              "      <td>1000_2</td>\n",
              "      <td>2018-06-11</td>\n",
              "      <td>3.0</td>\n",
              "      <td>1000</td>\n",
              "    </tr>\n",
              "    <tr>\n",
              "      <td>3</td>\n",
              "      <td>1000_3</td>\n",
              "      <td>2018-09-21</td>\n",
              "      <td>14.0</td>\n",
              "      <td>1000</td>\n",
              "    </tr>\n",
              "    <tr>\n",
              "      <td>4</td>\n",
              "      <td>1000_4</td>\n",
              "      <td>2018-12-15</td>\n",
              "      <td>6.0</td>\n",
              "      <td>1000</td>\n",
              "    </tr>\n",
              "  </tbody>\n",
              "</table>\n",
              "</div>"
            ],
            "text/plain": [
              "       id   call_date  duration  user_id\n",
              "0  1000_0  2018-07-25       0.0     1000\n",
              "1  1000_1  2018-08-17       0.0     1000\n",
              "2  1000_2  2018-06-11       3.0     1000\n",
              "3  1000_3  2018-09-21      14.0     1000\n",
              "4  1000_4  2018-12-15       6.0     1000"
            ]
          },
          "metadata": {
            "tags": []
          },
          "execution_count": 4
        }
      ]
    },
    {
      "cell_type": "code",
      "metadata": {
        "id": "-btm7uYphkgc",
        "outputId": "3bca3316-da33-4bbd-f386-9a21360364e7"
      },
      "source": [
        "df_1 = df_1.query('duration > 0')\n",
        "df_1.head()"
      ],
      "execution_count": null,
      "outputs": [
        {
          "output_type": "execute_result",
          "data": {
            "text/html": [
              "<div>\n",
              "<style scoped>\n",
              "    .dataframe tbody tr th:only-of-type {\n",
              "        vertical-align: middle;\n",
              "    }\n",
              "\n",
              "    .dataframe tbody tr th {\n",
              "        vertical-align: top;\n",
              "    }\n",
              "\n",
              "    .dataframe thead th {\n",
              "        text-align: right;\n",
              "    }\n",
              "</style>\n",
              "<table border=\"1\" class=\"dataframe\">\n",
              "  <thead>\n",
              "    <tr style=\"text-align: right;\">\n",
              "      <th></th>\n",
              "      <th>id</th>\n",
              "      <th>call_date</th>\n",
              "      <th>duration</th>\n",
              "      <th>user_id</th>\n",
              "    </tr>\n",
              "  </thead>\n",
              "  <tbody>\n",
              "    <tr>\n",
              "      <td>2</td>\n",
              "      <td>1000_2</td>\n",
              "      <td>2018-06-11</td>\n",
              "      <td>3.0</td>\n",
              "      <td>1000</td>\n",
              "    </tr>\n",
              "    <tr>\n",
              "      <td>3</td>\n",
              "      <td>1000_3</td>\n",
              "      <td>2018-09-21</td>\n",
              "      <td>14.0</td>\n",
              "      <td>1000</td>\n",
              "    </tr>\n",
              "    <tr>\n",
              "      <td>4</td>\n",
              "      <td>1000_4</td>\n",
              "      <td>2018-12-15</td>\n",
              "      <td>6.0</td>\n",
              "      <td>1000</td>\n",
              "    </tr>\n",
              "    <tr>\n",
              "      <td>7</td>\n",
              "      <td>1000_7</td>\n",
              "      <td>2018-08-22</td>\n",
              "      <td>19.0</td>\n",
              "      <td>1000</td>\n",
              "    </tr>\n",
              "    <tr>\n",
              "      <td>8</td>\n",
              "      <td>1000_8</td>\n",
              "      <td>2018-09-15</td>\n",
              "      <td>19.0</td>\n",
              "      <td>1000</td>\n",
              "    </tr>\n",
              "  </tbody>\n",
              "</table>\n",
              "</div>"
            ],
            "text/plain": [
              "       id   call_date  duration  user_id\n",
              "2  1000_2  2018-06-11       3.0     1000\n",
              "3  1000_3  2018-09-21      14.0     1000\n",
              "4  1000_4  2018-12-15       6.0     1000\n",
              "7  1000_7  2018-08-22      19.0     1000\n",
              "8  1000_8  2018-09-15      19.0     1000"
            ]
          },
          "metadata": {
            "tags": []
          },
          "execution_count": 5
        }
      ]
    },
    {
      "cell_type": "markdown",
      "metadata": {
        "id": "CA9ZFielhkgd"
      },
      "source": [
        "<div class=\"alert alert-info\">\n",
        "    \n",
        "Округлил значения минут.\n",
        "</div>"
      ]
    },
    {
      "cell_type": "code",
      "metadata": {
        "id": "VXRPG_X4hkge",
        "outputId": "58531786-3ca5-4f68-b920-6586ecda1ded"
      },
      "source": [
        "df_1['call_date'] = pd.to_datetime(df_1['call_date'], format = '%Y-%m-%d')\n",
        "df_1['month'] = df_1['call_date'].dt.month\n",
        "new_df_1 = (df_1.groupby(['user_id', pd.Grouper(key='month')])\n",
        "          .agg({'duration':('sum', 'count')}))\n",
        "new_df_1.head(15)"
      ],
      "execution_count": null,
      "outputs": [
        {
          "output_type": "execute_result",
          "data": {
            "text/html": [
              "<div>\n",
              "<style scoped>\n",
              "    .dataframe tbody tr th:only-of-type {\n",
              "        vertical-align: middle;\n",
              "    }\n",
              "\n",
              "    .dataframe tbody tr th {\n",
              "        vertical-align: top;\n",
              "    }\n",
              "\n",
              "    .dataframe thead tr th {\n",
              "        text-align: left;\n",
              "    }\n",
              "\n",
              "    .dataframe thead tr:last-of-type th {\n",
              "        text-align: right;\n",
              "    }\n",
              "</style>\n",
              "<table border=\"1\" class=\"dataframe\">\n",
              "  <thead>\n",
              "    <tr>\n",
              "      <th></th>\n",
              "      <th></th>\n",
              "      <th colspan=\"2\" halign=\"left\">duration</th>\n",
              "    </tr>\n",
              "    <tr>\n",
              "      <th></th>\n",
              "      <th></th>\n",
              "      <th>sum</th>\n",
              "      <th>count</th>\n",
              "    </tr>\n",
              "    <tr>\n",
              "      <th>user_id</th>\n",
              "      <th>month</th>\n",
              "      <th></th>\n",
              "      <th></th>\n",
              "    </tr>\n",
              "  </thead>\n",
              "  <tbody>\n",
              "    <tr>\n",
              "      <td rowspan=\"8\" valign=\"top\">1000</td>\n",
              "      <td>5</td>\n",
              "      <td>159.0</td>\n",
              "      <td>17</td>\n",
              "    </tr>\n",
              "    <tr>\n",
              "      <td>6</td>\n",
              "      <td>172.0</td>\n",
              "      <td>28</td>\n",
              "    </tr>\n",
              "    <tr>\n",
              "      <td>7</td>\n",
              "      <td>340.0</td>\n",
              "      <td>41</td>\n",
              "    </tr>\n",
              "    <tr>\n",
              "      <td>8</td>\n",
              "      <td>408.0</td>\n",
              "      <td>42</td>\n",
              "    </tr>\n",
              "    <tr>\n",
              "      <td>9</td>\n",
              "      <td>466.0</td>\n",
              "      <td>46</td>\n",
              "    </tr>\n",
              "    <tr>\n",
              "      <td>10</td>\n",
              "      <td>350.0</td>\n",
              "      <td>44</td>\n",
              "    </tr>\n",
              "    <tr>\n",
              "      <td>11</td>\n",
              "      <td>338.0</td>\n",
              "      <td>37</td>\n",
              "    </tr>\n",
              "    <tr>\n",
              "      <td>12</td>\n",
              "      <td>333.0</td>\n",
              "      <td>38</td>\n",
              "    </tr>\n",
              "    <tr>\n",
              "      <td rowspan=\"2\" valign=\"top\">1001</td>\n",
              "      <td>11</td>\n",
              "      <td>430.0</td>\n",
              "      <td>45</td>\n",
              "    </tr>\n",
              "    <tr>\n",
              "      <td>12</td>\n",
              "      <td>414.0</td>\n",
              "      <td>47</td>\n",
              "    </tr>\n",
              "    <tr>\n",
              "      <td rowspan=\"5\" valign=\"top\">1002</td>\n",
              "      <td>6</td>\n",
              "      <td>117.0</td>\n",
              "      <td>14</td>\n",
              "    </tr>\n",
              "    <tr>\n",
              "      <td>7</td>\n",
              "      <td>214.0</td>\n",
              "      <td>21</td>\n",
              "    </tr>\n",
              "    <tr>\n",
              "      <td>8</td>\n",
              "      <td>289.0</td>\n",
              "      <td>37</td>\n",
              "    </tr>\n",
              "    <tr>\n",
              "      <td>9</td>\n",
              "      <td>206.0</td>\n",
              "      <td>25</td>\n",
              "    </tr>\n",
              "    <tr>\n",
              "      <td>10</td>\n",
              "      <td>212.0</td>\n",
              "      <td>24</td>\n",
              "    </tr>\n",
              "  </tbody>\n",
              "</table>\n",
              "</div>"
            ],
            "text/plain": [
              "              duration      \n",
              "                   sum count\n",
              "user_id month               \n",
              "1000    5        159.0    17\n",
              "        6        172.0    28\n",
              "        7        340.0    41\n",
              "        8        408.0    42\n",
              "        9        466.0    46\n",
              "        10       350.0    44\n",
              "        11       338.0    37\n",
              "        12       333.0    38\n",
              "1001    11       430.0    45\n",
              "        12       414.0    47\n",
              "1002    6        117.0    14\n",
              "        7        214.0    21\n",
              "        8        289.0    37\n",
              "        9        206.0    25\n",
              "        10       212.0    24"
            ]
          },
          "metadata": {
            "tags": []
          },
          "execution_count": 6
        }
      ]
    },
    {
      "cell_type": "code",
      "metadata": {
        "id": "LqBIRveohkge",
        "outputId": "92980b8a-d0a2-453a-c40e-e46a0c08837d"
      },
      "source": [
        "new_df_1.info()"
      ],
      "execution_count": null,
      "outputs": [
        {
          "output_type": "stream",
          "text": [
            "<class 'pandas.core.frame.DataFrame'>\n",
            "MultiIndex: 3168 entries, (1000, 5) to (1499, 12)\n",
            "Data columns (total 2 columns):\n",
            "(duration, sum)      3168 non-null float64\n",
            "(duration, count)    3168 non-null int64\n",
            "dtypes: float64(1), int64(1)\n",
            "memory usage: 62.8 KB\n"
          ],
          "name": "stdout"
        }
      ]
    },
    {
      "cell_type": "code",
      "metadata": {
        "id": "edV0IEddhkgf",
        "outputId": "8bd22114-7f69-41f7-9306-d4c31ab5aff6"
      },
      "source": [
        "new_df_1.columns=['duration','duration_count']\n",
        "new_df_1.head()"
      ],
      "execution_count": null,
      "outputs": [
        {
          "output_type": "execute_result",
          "data": {
            "text/html": [
              "<div>\n",
              "<style scoped>\n",
              "    .dataframe tbody tr th:only-of-type {\n",
              "        vertical-align: middle;\n",
              "    }\n",
              "\n",
              "    .dataframe tbody tr th {\n",
              "        vertical-align: top;\n",
              "    }\n",
              "\n",
              "    .dataframe thead th {\n",
              "        text-align: right;\n",
              "    }\n",
              "</style>\n",
              "<table border=\"1\" class=\"dataframe\">\n",
              "  <thead>\n",
              "    <tr style=\"text-align: right;\">\n",
              "      <th></th>\n",
              "      <th></th>\n",
              "      <th>duration</th>\n",
              "      <th>duration_count</th>\n",
              "    </tr>\n",
              "    <tr>\n",
              "      <th>user_id</th>\n",
              "      <th>month</th>\n",
              "      <th></th>\n",
              "      <th></th>\n",
              "    </tr>\n",
              "  </thead>\n",
              "  <tbody>\n",
              "    <tr>\n",
              "      <td rowspan=\"5\" valign=\"top\">1000</td>\n",
              "      <td>5</td>\n",
              "      <td>159.0</td>\n",
              "      <td>17</td>\n",
              "    </tr>\n",
              "    <tr>\n",
              "      <td>6</td>\n",
              "      <td>172.0</td>\n",
              "      <td>28</td>\n",
              "    </tr>\n",
              "    <tr>\n",
              "      <td>7</td>\n",
              "      <td>340.0</td>\n",
              "      <td>41</td>\n",
              "    </tr>\n",
              "    <tr>\n",
              "      <td>8</td>\n",
              "      <td>408.0</td>\n",
              "      <td>42</td>\n",
              "    </tr>\n",
              "    <tr>\n",
              "      <td>9</td>\n",
              "      <td>466.0</td>\n",
              "      <td>46</td>\n",
              "    </tr>\n",
              "  </tbody>\n",
              "</table>\n",
              "</div>"
            ],
            "text/plain": [
              "               duration  duration_count\n",
              "user_id month                          \n",
              "1000    5         159.0              17\n",
              "        6         172.0              28\n",
              "        7         340.0              41\n",
              "        8         408.0              42\n",
              "        9         466.0              46"
            ]
          },
          "metadata": {
            "tags": []
          },
          "execution_count": 8
        }
      ]
    },
    {
      "cell_type": "markdown",
      "metadata": {
        "id": "48U7lW64hkgj"
      },
      "source": [
        "Создал таблицу суммарного времени звонков по месяцам для каждого пользователя"
      ]
    },
    {
      "cell_type": "code",
      "metadata": {
        "id": "S5C2GoSOhkgj",
        "outputId": "646b088c-bcbb-4b08-8e09-49802da0175d"
      },
      "source": [
        "df_2 = pd.read_csv('/datasets/internet.csv')\n",
        "print(df_2.info())\n",
        "print()\n",
        "df_2.head()"
      ],
      "execution_count": null,
      "outputs": [
        {
          "output_type": "stream",
          "text": [
            "<class 'pandas.core.frame.DataFrame'>\n",
            "RangeIndex: 149396 entries, 0 to 149395\n",
            "Data columns (total 5 columns):\n",
            "Unnamed: 0      149396 non-null int64\n",
            "id              149396 non-null object\n",
            "mb_used         149396 non-null float64\n",
            "session_date    149396 non-null object\n",
            "user_id         149396 non-null int64\n",
            "dtypes: float64(1), int64(2), object(2)\n",
            "memory usage: 5.7+ MB\n",
            "None\n",
            "\n"
          ],
          "name": "stdout"
        },
        {
          "output_type": "execute_result",
          "data": {
            "text/html": [
              "<div>\n",
              "<style scoped>\n",
              "    .dataframe tbody tr th:only-of-type {\n",
              "        vertical-align: middle;\n",
              "    }\n",
              "\n",
              "    .dataframe tbody tr th {\n",
              "        vertical-align: top;\n",
              "    }\n",
              "\n",
              "    .dataframe thead th {\n",
              "        text-align: right;\n",
              "    }\n",
              "</style>\n",
              "<table border=\"1\" class=\"dataframe\">\n",
              "  <thead>\n",
              "    <tr style=\"text-align: right;\">\n",
              "      <th></th>\n",
              "      <th>Unnamed: 0</th>\n",
              "      <th>id</th>\n",
              "      <th>mb_used</th>\n",
              "      <th>session_date</th>\n",
              "      <th>user_id</th>\n",
              "    </tr>\n",
              "  </thead>\n",
              "  <tbody>\n",
              "    <tr>\n",
              "      <td>0</td>\n",
              "      <td>0</td>\n",
              "      <td>1000_0</td>\n",
              "      <td>112.95</td>\n",
              "      <td>2018-11-25</td>\n",
              "      <td>1000</td>\n",
              "    </tr>\n",
              "    <tr>\n",
              "      <td>1</td>\n",
              "      <td>1</td>\n",
              "      <td>1000_1</td>\n",
              "      <td>1052.81</td>\n",
              "      <td>2018-09-07</td>\n",
              "      <td>1000</td>\n",
              "    </tr>\n",
              "    <tr>\n",
              "      <td>2</td>\n",
              "      <td>2</td>\n",
              "      <td>1000_2</td>\n",
              "      <td>1197.26</td>\n",
              "      <td>2018-06-25</td>\n",
              "      <td>1000</td>\n",
              "    </tr>\n",
              "    <tr>\n",
              "      <td>3</td>\n",
              "      <td>3</td>\n",
              "      <td>1000_3</td>\n",
              "      <td>550.27</td>\n",
              "      <td>2018-08-22</td>\n",
              "      <td>1000</td>\n",
              "    </tr>\n",
              "    <tr>\n",
              "      <td>4</td>\n",
              "      <td>4</td>\n",
              "      <td>1000_4</td>\n",
              "      <td>302.56</td>\n",
              "      <td>2018-09-24</td>\n",
              "      <td>1000</td>\n",
              "    </tr>\n",
              "  </tbody>\n",
              "</table>\n",
              "</div>"
            ],
            "text/plain": [
              "   Unnamed: 0      id  mb_used session_date  user_id\n",
              "0           0  1000_0   112.95   2018-11-25     1000\n",
              "1           1  1000_1  1052.81   2018-09-07     1000\n",
              "2           2  1000_2  1197.26   2018-06-25     1000\n",
              "3           3  1000_3   550.27   2018-08-22     1000\n",
              "4           4  1000_4   302.56   2018-09-24     1000"
            ]
          },
          "metadata": {
            "tags": []
          },
          "execution_count": 9
        }
      ]
    },
    {
      "cell_type": "code",
      "metadata": {
        "id": "zNwUAOgqhkgk",
        "outputId": "e46194d4-51c8-44d3-83a1-e8c34e36b079"
      },
      "source": [
        "df_2['mb_used'] = df_2['mb_used'].apply(np.ceil)\n",
        "df_2.head()"
      ],
      "execution_count": null,
      "outputs": [
        {
          "output_type": "execute_result",
          "data": {
            "text/html": [
              "<div>\n",
              "<style scoped>\n",
              "    .dataframe tbody tr th:only-of-type {\n",
              "        vertical-align: middle;\n",
              "    }\n",
              "\n",
              "    .dataframe tbody tr th {\n",
              "        vertical-align: top;\n",
              "    }\n",
              "\n",
              "    .dataframe thead th {\n",
              "        text-align: right;\n",
              "    }\n",
              "</style>\n",
              "<table border=\"1\" class=\"dataframe\">\n",
              "  <thead>\n",
              "    <tr style=\"text-align: right;\">\n",
              "      <th></th>\n",
              "      <th>Unnamed: 0</th>\n",
              "      <th>id</th>\n",
              "      <th>mb_used</th>\n",
              "      <th>session_date</th>\n",
              "      <th>user_id</th>\n",
              "    </tr>\n",
              "  </thead>\n",
              "  <tbody>\n",
              "    <tr>\n",
              "      <td>0</td>\n",
              "      <td>0</td>\n",
              "      <td>1000_0</td>\n",
              "      <td>113.0</td>\n",
              "      <td>2018-11-25</td>\n",
              "      <td>1000</td>\n",
              "    </tr>\n",
              "    <tr>\n",
              "      <td>1</td>\n",
              "      <td>1</td>\n",
              "      <td>1000_1</td>\n",
              "      <td>1053.0</td>\n",
              "      <td>2018-09-07</td>\n",
              "      <td>1000</td>\n",
              "    </tr>\n",
              "    <tr>\n",
              "      <td>2</td>\n",
              "      <td>2</td>\n",
              "      <td>1000_2</td>\n",
              "      <td>1198.0</td>\n",
              "      <td>2018-06-25</td>\n",
              "      <td>1000</td>\n",
              "    </tr>\n",
              "    <tr>\n",
              "      <td>3</td>\n",
              "      <td>3</td>\n",
              "      <td>1000_3</td>\n",
              "      <td>551.0</td>\n",
              "      <td>2018-08-22</td>\n",
              "      <td>1000</td>\n",
              "    </tr>\n",
              "    <tr>\n",
              "      <td>4</td>\n",
              "      <td>4</td>\n",
              "      <td>1000_4</td>\n",
              "      <td>303.0</td>\n",
              "      <td>2018-09-24</td>\n",
              "      <td>1000</td>\n",
              "    </tr>\n",
              "  </tbody>\n",
              "</table>\n",
              "</div>"
            ],
            "text/plain": [
              "   Unnamed: 0      id  mb_used session_date  user_id\n",
              "0           0  1000_0    113.0   2018-11-25     1000\n",
              "1           1  1000_1   1053.0   2018-09-07     1000\n",
              "2           2  1000_2   1198.0   2018-06-25     1000\n",
              "3           3  1000_3    551.0   2018-08-22     1000\n",
              "4           4  1000_4    303.0   2018-09-24     1000"
            ]
          },
          "metadata": {
            "tags": []
          },
          "execution_count": 10
        }
      ]
    },
    {
      "cell_type": "markdown",
      "metadata": {
        "id": "O1l1WIkxhkgk"
      },
      "source": [
        "<div class=\"alert alert-info\">\n",
        "    \n",
        "Округлил значения МБ.\n",
        "</div>"
      ]
    },
    {
      "cell_type": "code",
      "metadata": {
        "id": "L13z9csShkgk",
        "outputId": "7ef984d5-6888-4752-df3a-be9d7c30f9be"
      },
      "source": [
        "df_2['session_date'] = pd.to_datetime(df_2['session_date'], format = '%Y-%m-%d')\n",
        "df_2['month'] = df_2['session_date'].dt.month\n",
        "new_df_2 = (df_2.groupby(['user_id', pd.Grouper(key='month')])\n",
        "          .agg({'mb_used':'sum'}))\n",
        "new_df_2['gb_used'] = new_df_2['mb_used'] / 1024\n",
        "del new_df_2['mb_used']\n",
        "new_df_2.head(15)"
      ],
      "execution_count": null,
      "outputs": [
        {
          "output_type": "execute_result",
          "data": {
            "text/html": [
              "<div>\n",
              "<style scoped>\n",
              "    .dataframe tbody tr th:only-of-type {\n",
              "        vertical-align: middle;\n",
              "    }\n",
              "\n",
              "    .dataframe tbody tr th {\n",
              "        vertical-align: top;\n",
              "    }\n",
              "\n",
              "    .dataframe thead th {\n",
              "        text-align: right;\n",
              "    }\n",
              "</style>\n",
              "<table border=\"1\" class=\"dataframe\">\n",
              "  <thead>\n",
              "    <tr style=\"text-align: right;\">\n",
              "      <th></th>\n",
              "      <th></th>\n",
              "      <th>gb_used</th>\n",
              "    </tr>\n",
              "    <tr>\n",
              "      <th>user_id</th>\n",
              "      <th>month</th>\n",
              "      <th></th>\n",
              "    </tr>\n",
              "  </thead>\n",
              "  <tbody>\n",
              "    <tr>\n",
              "      <td rowspan=\"8\" valign=\"top\">1000</td>\n",
              "      <td>5</td>\n",
              "      <td>2.203125</td>\n",
              "    </tr>\n",
              "    <tr>\n",
              "      <td>6</td>\n",
              "      <td>22.711914</td>\n",
              "    </tr>\n",
              "    <tr>\n",
              "      <td>7</td>\n",
              "      <td>13.687500</td>\n",
              "    </tr>\n",
              "    <tr>\n",
              "      <td>8</td>\n",
              "      <td>13.740234</td>\n",
              "    </tr>\n",
              "    <tr>\n",
              "      <td>9</td>\n",
              "      <td>14.239258</td>\n",
              "    </tr>\n",
              "    <tr>\n",
              "      <td>10</td>\n",
              "      <td>14.372070</td>\n",
              "    </tr>\n",
              "    <tr>\n",
              "      <td>11</td>\n",
              "      <td>14.421875</td>\n",
              "    </tr>\n",
              "    <tr>\n",
              "      <td>12</td>\n",
              "      <td>9.596680</td>\n",
              "    </tr>\n",
              "    <tr>\n",
              "      <td rowspan=\"2\" valign=\"top\">1001</td>\n",
              "      <td>11</td>\n",
              "      <td>18.019531</td>\n",
              "    </tr>\n",
              "    <tr>\n",
              "      <td>12</td>\n",
              "      <td>13.723633</td>\n",
              "    </tr>\n",
              "    <tr>\n",
              "      <td rowspan=\"5\" valign=\"top\">1002</td>\n",
              "      <td>6</td>\n",
              "      <td>10.616211</td>\n",
              "    </tr>\n",
              "    <tr>\n",
              "      <td>7</td>\n",
              "      <td>17.188477</td>\n",
              "    </tr>\n",
              "    <tr>\n",
              "      <td>8</td>\n",
              "      <td>19.870117</td>\n",
              "    </tr>\n",
              "    <tr>\n",
              "      <td>9</td>\n",
              "      <td>16.320312</td>\n",
              "    </tr>\n",
              "    <tr>\n",
              "      <td>10</td>\n",
              "      <td>13.579102</td>\n",
              "    </tr>\n",
              "  </tbody>\n",
              "</table>\n",
              "</div>"
            ],
            "text/plain": [
              "                 gb_used\n",
              "user_id month           \n",
              "1000    5       2.203125\n",
              "        6      22.711914\n",
              "        7      13.687500\n",
              "        8      13.740234\n",
              "        9      14.239258\n",
              "        10     14.372070\n",
              "        11     14.421875\n",
              "        12      9.596680\n",
              "1001    11     18.019531\n",
              "        12     13.723633\n",
              "1002    6      10.616211\n",
              "        7      17.188477\n",
              "        8      19.870117\n",
              "        9      16.320312\n",
              "        10     13.579102"
            ]
          },
          "metadata": {
            "tags": []
          },
          "execution_count": 11
        }
      ]
    },
    {
      "cell_type": "markdown",
      "metadata": {
        "id": "EZGTfmdMhkgl"
      },
      "source": [
        "Создал таблицу суммарного трафика интернета (в ГБ) по месяцам для каждого пользователя"
      ]
    },
    {
      "cell_type": "code",
      "metadata": {
        "id": "ijv1kQx_hkgl",
        "outputId": "e3245586-9bf0-4bf9-f356-dddca4f48c74"
      },
      "source": [
        "df_3 = pd.read_csv('/datasets/messages.csv')\n",
        "print(df_3.info())\n",
        "print()\n",
        "df_3.head()"
      ],
      "execution_count": null,
      "outputs": [
        {
          "output_type": "stream",
          "text": [
            "<class 'pandas.core.frame.DataFrame'>\n",
            "RangeIndex: 123036 entries, 0 to 123035\n",
            "Data columns (total 3 columns):\n",
            "id              123036 non-null object\n",
            "message_date    123036 non-null object\n",
            "user_id         123036 non-null int64\n",
            "dtypes: int64(1), object(2)\n",
            "memory usage: 2.8+ MB\n",
            "None\n",
            "\n"
          ],
          "name": "stdout"
        },
        {
          "output_type": "execute_result",
          "data": {
            "text/html": [
              "<div>\n",
              "<style scoped>\n",
              "    .dataframe tbody tr th:only-of-type {\n",
              "        vertical-align: middle;\n",
              "    }\n",
              "\n",
              "    .dataframe tbody tr th {\n",
              "        vertical-align: top;\n",
              "    }\n",
              "\n",
              "    .dataframe thead th {\n",
              "        text-align: right;\n",
              "    }\n",
              "</style>\n",
              "<table border=\"1\" class=\"dataframe\">\n",
              "  <thead>\n",
              "    <tr style=\"text-align: right;\">\n",
              "      <th></th>\n",
              "      <th>id</th>\n",
              "      <th>message_date</th>\n",
              "      <th>user_id</th>\n",
              "    </tr>\n",
              "  </thead>\n",
              "  <tbody>\n",
              "    <tr>\n",
              "      <td>0</td>\n",
              "      <td>1000_0</td>\n",
              "      <td>2018-06-27</td>\n",
              "      <td>1000</td>\n",
              "    </tr>\n",
              "    <tr>\n",
              "      <td>1</td>\n",
              "      <td>1000_1</td>\n",
              "      <td>2018-10-08</td>\n",
              "      <td>1000</td>\n",
              "    </tr>\n",
              "    <tr>\n",
              "      <td>2</td>\n",
              "      <td>1000_2</td>\n",
              "      <td>2018-08-04</td>\n",
              "      <td>1000</td>\n",
              "    </tr>\n",
              "    <tr>\n",
              "      <td>3</td>\n",
              "      <td>1000_3</td>\n",
              "      <td>2018-06-16</td>\n",
              "      <td>1000</td>\n",
              "    </tr>\n",
              "    <tr>\n",
              "      <td>4</td>\n",
              "      <td>1000_4</td>\n",
              "      <td>2018-12-05</td>\n",
              "      <td>1000</td>\n",
              "    </tr>\n",
              "  </tbody>\n",
              "</table>\n",
              "</div>"
            ],
            "text/plain": [
              "       id message_date  user_id\n",
              "0  1000_0   2018-06-27     1000\n",
              "1  1000_1   2018-10-08     1000\n",
              "2  1000_2   2018-08-04     1000\n",
              "3  1000_3   2018-06-16     1000\n",
              "4  1000_4   2018-12-05     1000"
            ]
          },
          "metadata": {
            "tags": []
          },
          "execution_count": 12
        }
      ]
    },
    {
      "cell_type": "code",
      "metadata": {
        "id": "hkCzpxbkhkgl",
        "outputId": "3f4eb6b1-fbbd-4278-f1df-3f2d5642552a"
      },
      "source": [
        "df_3['message_date'] = pd.to_datetime(df_3['message_date'], format = '%Y-%m-%d')\n",
        "df_3['month'] = df_3['message_date'].dt.month\n",
        "new_df_3 = (df_3.groupby(['user_id', pd.Grouper(key='month')])\n",
        "          .agg({'id':'count'}))\n",
        "new_df_3['messages'] = new_df_3['id']\n",
        "del new_df_3['id']\n",
        "new_df_3.head(15)"
      ],
      "execution_count": null,
      "outputs": [
        {
          "output_type": "execute_result",
          "data": {
            "text/html": [
              "<div>\n",
              "<style scoped>\n",
              "    .dataframe tbody tr th:only-of-type {\n",
              "        vertical-align: middle;\n",
              "    }\n",
              "\n",
              "    .dataframe tbody tr th {\n",
              "        vertical-align: top;\n",
              "    }\n",
              "\n",
              "    .dataframe thead th {\n",
              "        text-align: right;\n",
              "    }\n",
              "</style>\n",
              "<table border=\"1\" class=\"dataframe\">\n",
              "  <thead>\n",
              "    <tr style=\"text-align: right;\">\n",
              "      <th></th>\n",
              "      <th></th>\n",
              "      <th>messages</th>\n",
              "    </tr>\n",
              "    <tr>\n",
              "      <th>user_id</th>\n",
              "      <th>month</th>\n",
              "      <th></th>\n",
              "    </tr>\n",
              "  </thead>\n",
              "  <tbody>\n",
              "    <tr>\n",
              "      <td rowspan=\"8\" valign=\"top\">1000</td>\n",
              "      <td>5</td>\n",
              "      <td>22</td>\n",
              "    </tr>\n",
              "    <tr>\n",
              "      <td>6</td>\n",
              "      <td>60</td>\n",
              "    </tr>\n",
              "    <tr>\n",
              "      <td>7</td>\n",
              "      <td>75</td>\n",
              "    </tr>\n",
              "    <tr>\n",
              "      <td>8</td>\n",
              "      <td>81</td>\n",
              "    </tr>\n",
              "    <tr>\n",
              "      <td>9</td>\n",
              "      <td>57</td>\n",
              "    </tr>\n",
              "    <tr>\n",
              "      <td>10</td>\n",
              "      <td>73</td>\n",
              "    </tr>\n",
              "    <tr>\n",
              "      <td>11</td>\n",
              "      <td>58</td>\n",
              "    </tr>\n",
              "    <tr>\n",
              "      <td>12</td>\n",
              "      <td>70</td>\n",
              "    </tr>\n",
              "    <tr>\n",
              "      <td rowspan=\"7\" valign=\"top\">1002</td>\n",
              "      <td>6</td>\n",
              "      <td>4</td>\n",
              "    </tr>\n",
              "    <tr>\n",
              "      <td>7</td>\n",
              "      <td>11</td>\n",
              "    </tr>\n",
              "    <tr>\n",
              "      <td>8</td>\n",
              "      <td>13</td>\n",
              "    </tr>\n",
              "    <tr>\n",
              "      <td>9</td>\n",
              "      <td>4</td>\n",
              "    </tr>\n",
              "    <tr>\n",
              "      <td>10</td>\n",
              "      <td>10</td>\n",
              "    </tr>\n",
              "    <tr>\n",
              "      <td>11</td>\n",
              "      <td>16</td>\n",
              "    </tr>\n",
              "    <tr>\n",
              "      <td>12</td>\n",
              "      <td>12</td>\n",
              "    </tr>\n",
              "  </tbody>\n",
              "</table>\n",
              "</div>"
            ],
            "text/plain": [
              "               messages\n",
              "user_id month          \n",
              "1000    5            22\n",
              "        6            60\n",
              "        7            75\n",
              "        8            81\n",
              "        9            57\n",
              "        10           73\n",
              "        11           58\n",
              "        12           70\n",
              "1002    6             4\n",
              "        7            11\n",
              "        8            13\n",
              "        9             4\n",
              "        10           10\n",
              "        11           16\n",
              "        12           12"
            ]
          },
          "metadata": {
            "tags": []
          },
          "execution_count": 13
        }
      ]
    },
    {
      "cell_type": "markdown",
      "metadata": {
        "id": "NynaG1sYhkgm"
      },
      "source": [
        "Создал таблицу суммарного количества смс по месяцам для каждого пользователя"
      ]
    },
    {
      "cell_type": "code",
      "metadata": {
        "id": "2piCPkl2hkgm",
        "outputId": "4035d338-375d-4222-bad7-f69352821397"
      },
      "source": [
        "df_4 = pd.read_csv('/datasets/tariffs.csv')\n",
        "print(df_4.info())\n",
        "print()\n",
        "df_4.head()"
      ],
      "execution_count": null,
      "outputs": [
        {
          "output_type": "stream",
          "text": [
            "<class 'pandas.core.frame.DataFrame'>\n",
            "RangeIndex: 2 entries, 0 to 1\n",
            "Data columns (total 8 columns):\n",
            "messages_included        2 non-null int64\n",
            "mb_per_month_included    2 non-null int64\n",
            "minutes_included         2 non-null int64\n",
            "rub_monthly_fee          2 non-null int64\n",
            "rub_per_gb               2 non-null int64\n",
            "rub_per_message          2 non-null int64\n",
            "rub_per_minute           2 non-null int64\n",
            "tariff_name              2 non-null object\n",
            "dtypes: int64(7), object(1)\n",
            "memory usage: 256.0+ bytes\n",
            "None\n",
            "\n"
          ],
          "name": "stdout"
        },
        {
          "output_type": "execute_result",
          "data": {
            "text/html": [
              "<div>\n",
              "<style scoped>\n",
              "    .dataframe tbody tr th:only-of-type {\n",
              "        vertical-align: middle;\n",
              "    }\n",
              "\n",
              "    .dataframe tbody tr th {\n",
              "        vertical-align: top;\n",
              "    }\n",
              "\n",
              "    .dataframe thead th {\n",
              "        text-align: right;\n",
              "    }\n",
              "</style>\n",
              "<table border=\"1\" class=\"dataframe\">\n",
              "  <thead>\n",
              "    <tr style=\"text-align: right;\">\n",
              "      <th></th>\n",
              "      <th>messages_included</th>\n",
              "      <th>mb_per_month_included</th>\n",
              "      <th>minutes_included</th>\n",
              "      <th>rub_monthly_fee</th>\n",
              "      <th>rub_per_gb</th>\n",
              "      <th>rub_per_message</th>\n",
              "      <th>rub_per_minute</th>\n",
              "      <th>tariff_name</th>\n",
              "    </tr>\n",
              "  </thead>\n",
              "  <tbody>\n",
              "    <tr>\n",
              "      <td>0</td>\n",
              "      <td>50</td>\n",
              "      <td>15360</td>\n",
              "      <td>500</td>\n",
              "      <td>550</td>\n",
              "      <td>200</td>\n",
              "      <td>3</td>\n",
              "      <td>3</td>\n",
              "      <td>smart</td>\n",
              "    </tr>\n",
              "    <tr>\n",
              "      <td>1</td>\n",
              "      <td>1000</td>\n",
              "      <td>30720</td>\n",
              "      <td>3000</td>\n",
              "      <td>1950</td>\n",
              "      <td>150</td>\n",
              "      <td>1</td>\n",
              "      <td>1</td>\n",
              "      <td>ultra</td>\n",
              "    </tr>\n",
              "  </tbody>\n",
              "</table>\n",
              "</div>"
            ],
            "text/plain": [
              "   messages_included  mb_per_month_included  minutes_included  \\\n",
              "0                 50                  15360               500   \n",
              "1               1000                  30720              3000   \n",
              "\n",
              "   rub_monthly_fee  rub_per_gb  rub_per_message  rub_per_minute tariff_name  \n",
              "0              550         200                3               3       smart  \n",
              "1             1950         150                1               1       ultra  "
            ]
          },
          "metadata": {
            "tags": []
          },
          "execution_count": 14
        }
      ]
    },
    {
      "cell_type": "code",
      "metadata": {
        "id": "vN5HvB9Bhkgm",
        "outputId": "3129e69d-e448-45a3-867c-1e5e58a19ceb"
      },
      "source": [
        "df_5 = pd.read_csv('/datasets/users.csv')\n",
        "print(df_5.info())\n",
        "print()\n",
        "df_5.head()"
      ],
      "execution_count": null,
      "outputs": [
        {
          "output_type": "stream",
          "text": [
            "<class 'pandas.core.frame.DataFrame'>\n",
            "RangeIndex: 500 entries, 0 to 499\n",
            "Data columns (total 8 columns):\n",
            "user_id       500 non-null int64\n",
            "age           500 non-null int64\n",
            "churn_date    38 non-null object\n",
            "city          500 non-null object\n",
            "first_name    500 non-null object\n",
            "last_name     500 non-null object\n",
            "reg_date      500 non-null object\n",
            "tariff        500 non-null object\n",
            "dtypes: int64(2), object(6)\n",
            "memory usage: 31.4+ KB\n",
            "None\n",
            "\n"
          ],
          "name": "stdout"
        },
        {
          "output_type": "execute_result",
          "data": {
            "text/html": [
              "<div>\n",
              "<style scoped>\n",
              "    .dataframe tbody tr th:only-of-type {\n",
              "        vertical-align: middle;\n",
              "    }\n",
              "\n",
              "    .dataframe tbody tr th {\n",
              "        vertical-align: top;\n",
              "    }\n",
              "\n",
              "    .dataframe thead th {\n",
              "        text-align: right;\n",
              "    }\n",
              "</style>\n",
              "<table border=\"1\" class=\"dataframe\">\n",
              "  <thead>\n",
              "    <tr style=\"text-align: right;\">\n",
              "      <th></th>\n",
              "      <th>user_id</th>\n",
              "      <th>age</th>\n",
              "      <th>churn_date</th>\n",
              "      <th>city</th>\n",
              "      <th>first_name</th>\n",
              "      <th>last_name</th>\n",
              "      <th>reg_date</th>\n",
              "      <th>tariff</th>\n",
              "    </tr>\n",
              "  </thead>\n",
              "  <tbody>\n",
              "    <tr>\n",
              "      <td>0</td>\n",
              "      <td>1000</td>\n",
              "      <td>52</td>\n",
              "      <td>NaN</td>\n",
              "      <td>Краснодар</td>\n",
              "      <td>Рафаил</td>\n",
              "      <td>Верещагин</td>\n",
              "      <td>2018-05-25</td>\n",
              "      <td>ultra</td>\n",
              "    </tr>\n",
              "    <tr>\n",
              "      <td>1</td>\n",
              "      <td>1001</td>\n",
              "      <td>41</td>\n",
              "      <td>NaN</td>\n",
              "      <td>Москва</td>\n",
              "      <td>Иван</td>\n",
              "      <td>Ежов</td>\n",
              "      <td>2018-11-01</td>\n",
              "      <td>smart</td>\n",
              "    </tr>\n",
              "    <tr>\n",
              "      <td>2</td>\n",
              "      <td>1002</td>\n",
              "      <td>59</td>\n",
              "      <td>NaN</td>\n",
              "      <td>Стерлитамак</td>\n",
              "      <td>Евгений</td>\n",
              "      <td>Абрамович</td>\n",
              "      <td>2018-06-17</td>\n",
              "      <td>smart</td>\n",
              "    </tr>\n",
              "    <tr>\n",
              "      <td>3</td>\n",
              "      <td>1003</td>\n",
              "      <td>23</td>\n",
              "      <td>NaN</td>\n",
              "      <td>Москва</td>\n",
              "      <td>Белла</td>\n",
              "      <td>Белякова</td>\n",
              "      <td>2018-08-17</td>\n",
              "      <td>ultra</td>\n",
              "    </tr>\n",
              "    <tr>\n",
              "      <td>4</td>\n",
              "      <td>1004</td>\n",
              "      <td>68</td>\n",
              "      <td>NaN</td>\n",
              "      <td>Новокузнецк</td>\n",
              "      <td>Татьяна</td>\n",
              "      <td>Авдеенко</td>\n",
              "      <td>2018-05-14</td>\n",
              "      <td>ultra</td>\n",
              "    </tr>\n",
              "  </tbody>\n",
              "</table>\n",
              "</div>"
            ],
            "text/plain": [
              "   user_id  age churn_date         city first_name  last_name    reg_date  \\\n",
              "0     1000   52        NaN    Краснодар     Рафаил  Верещагин  2018-05-25   \n",
              "1     1001   41        NaN       Москва       Иван       Ежов  2018-11-01   \n",
              "2     1002   59        NaN  Стерлитамак    Евгений  Абрамович  2018-06-17   \n",
              "3     1003   23        NaN       Москва      Белла   Белякова  2018-08-17   \n",
              "4     1004   68        NaN  Новокузнецк    Татьяна   Авдеенко  2018-05-14   \n",
              "\n",
              "  tariff  \n",
              "0  ultra  \n",
              "1  smart  \n",
              "2  smart  \n",
              "3  ultra  \n",
              "4  ultra  "
            ]
          },
          "metadata": {
            "tags": []
          },
          "execution_count": 15
        }
      ]
    },
    {
      "cell_type": "code",
      "metadata": {
        "id": "Sez2SCTThkgm",
        "outputId": "1d757ada-ab91-4ac4-ecd4-1a432a8c145b"
      },
      "source": [
        "new_df_5 = df_5[['user_id', 'tariff']]\n",
        "new_df_5.head()"
      ],
      "execution_count": null,
      "outputs": [
        {
          "output_type": "execute_result",
          "data": {
            "text/html": [
              "<div>\n",
              "<style scoped>\n",
              "    .dataframe tbody tr th:only-of-type {\n",
              "        vertical-align: middle;\n",
              "    }\n",
              "\n",
              "    .dataframe tbody tr th {\n",
              "        vertical-align: top;\n",
              "    }\n",
              "\n",
              "    .dataframe thead th {\n",
              "        text-align: right;\n",
              "    }\n",
              "</style>\n",
              "<table border=\"1\" class=\"dataframe\">\n",
              "  <thead>\n",
              "    <tr style=\"text-align: right;\">\n",
              "      <th></th>\n",
              "      <th>user_id</th>\n",
              "      <th>tariff</th>\n",
              "    </tr>\n",
              "  </thead>\n",
              "  <tbody>\n",
              "    <tr>\n",
              "      <td>0</td>\n",
              "      <td>1000</td>\n",
              "      <td>ultra</td>\n",
              "    </tr>\n",
              "    <tr>\n",
              "      <td>1</td>\n",
              "      <td>1001</td>\n",
              "      <td>smart</td>\n",
              "    </tr>\n",
              "    <tr>\n",
              "      <td>2</td>\n",
              "      <td>1002</td>\n",
              "      <td>smart</td>\n",
              "    </tr>\n",
              "    <tr>\n",
              "      <td>3</td>\n",
              "      <td>1003</td>\n",
              "      <td>ultra</td>\n",
              "    </tr>\n",
              "    <tr>\n",
              "      <td>4</td>\n",
              "      <td>1004</td>\n",
              "      <td>ultra</td>\n",
              "    </tr>\n",
              "  </tbody>\n",
              "</table>\n",
              "</div>"
            ],
            "text/plain": [
              "   user_id tariff\n",
              "0     1000  ultra\n",
              "1     1001  smart\n",
              "2     1002  smart\n",
              "3     1003  ultra\n",
              "4     1004  ultra"
            ]
          },
          "metadata": {
            "tags": []
          },
          "execution_count": 16
        }
      ]
    },
    {
      "cell_type": "markdown",
      "metadata": {
        "id": "W6_5c_Q6hkgo"
      },
      "source": [
        "Создал таблицу, в которой показан тариф для каждого пользователя"
      ]
    },
    {
      "cell_type": "code",
      "metadata": {
        "id": "TDPeJ0pghkgo",
        "outputId": "a95ecff1-3c4c-4945-e35e-74ff64eb19e3"
      },
      "source": [
        "df = pd.concat([new_df_1, new_df_2, new_df_3], axis='columns')\n",
        "df.head(15)"
      ],
      "execution_count": null,
      "outputs": [
        {
          "output_type": "execute_result",
          "data": {
            "text/html": [
              "<div>\n",
              "<style scoped>\n",
              "    .dataframe tbody tr th:only-of-type {\n",
              "        vertical-align: middle;\n",
              "    }\n",
              "\n",
              "    .dataframe tbody tr th {\n",
              "        vertical-align: top;\n",
              "    }\n",
              "\n",
              "    .dataframe thead th {\n",
              "        text-align: right;\n",
              "    }\n",
              "</style>\n",
              "<table border=\"1\" class=\"dataframe\">\n",
              "  <thead>\n",
              "    <tr style=\"text-align: right;\">\n",
              "      <th></th>\n",
              "      <th></th>\n",
              "      <th>duration</th>\n",
              "      <th>duration_count</th>\n",
              "      <th>gb_used</th>\n",
              "      <th>messages</th>\n",
              "    </tr>\n",
              "    <tr>\n",
              "      <th>user_id</th>\n",
              "      <th>month</th>\n",
              "      <th></th>\n",
              "      <th></th>\n",
              "      <th></th>\n",
              "      <th></th>\n",
              "    </tr>\n",
              "  </thead>\n",
              "  <tbody>\n",
              "    <tr>\n",
              "      <td rowspan=\"8\" valign=\"top\">1000</td>\n",
              "      <td>5</td>\n",
              "      <td>159.0</td>\n",
              "      <td>17.0</td>\n",
              "      <td>2.203125</td>\n",
              "      <td>22.0</td>\n",
              "    </tr>\n",
              "    <tr>\n",
              "      <td>6</td>\n",
              "      <td>172.0</td>\n",
              "      <td>28.0</td>\n",
              "      <td>22.711914</td>\n",
              "      <td>60.0</td>\n",
              "    </tr>\n",
              "    <tr>\n",
              "      <td>7</td>\n",
              "      <td>340.0</td>\n",
              "      <td>41.0</td>\n",
              "      <td>13.687500</td>\n",
              "      <td>75.0</td>\n",
              "    </tr>\n",
              "    <tr>\n",
              "      <td>8</td>\n",
              "      <td>408.0</td>\n",
              "      <td>42.0</td>\n",
              "      <td>13.740234</td>\n",
              "      <td>81.0</td>\n",
              "    </tr>\n",
              "    <tr>\n",
              "      <td>9</td>\n",
              "      <td>466.0</td>\n",
              "      <td>46.0</td>\n",
              "      <td>14.239258</td>\n",
              "      <td>57.0</td>\n",
              "    </tr>\n",
              "    <tr>\n",
              "      <td>10</td>\n",
              "      <td>350.0</td>\n",
              "      <td>44.0</td>\n",
              "      <td>14.372070</td>\n",
              "      <td>73.0</td>\n",
              "    </tr>\n",
              "    <tr>\n",
              "      <td>11</td>\n",
              "      <td>338.0</td>\n",
              "      <td>37.0</td>\n",
              "      <td>14.421875</td>\n",
              "      <td>58.0</td>\n",
              "    </tr>\n",
              "    <tr>\n",
              "      <td>12</td>\n",
              "      <td>333.0</td>\n",
              "      <td>38.0</td>\n",
              "      <td>9.596680</td>\n",
              "      <td>70.0</td>\n",
              "    </tr>\n",
              "    <tr>\n",
              "      <td rowspan=\"2\" valign=\"top\">1001</td>\n",
              "      <td>11</td>\n",
              "      <td>430.0</td>\n",
              "      <td>45.0</td>\n",
              "      <td>18.019531</td>\n",
              "      <td>NaN</td>\n",
              "    </tr>\n",
              "    <tr>\n",
              "      <td>12</td>\n",
              "      <td>414.0</td>\n",
              "      <td>47.0</td>\n",
              "      <td>13.723633</td>\n",
              "      <td>NaN</td>\n",
              "    </tr>\n",
              "    <tr>\n",
              "      <td rowspan=\"5\" valign=\"top\">1002</td>\n",
              "      <td>6</td>\n",
              "      <td>117.0</td>\n",
              "      <td>14.0</td>\n",
              "      <td>10.616211</td>\n",
              "      <td>4.0</td>\n",
              "    </tr>\n",
              "    <tr>\n",
              "      <td>7</td>\n",
              "      <td>214.0</td>\n",
              "      <td>21.0</td>\n",
              "      <td>17.188477</td>\n",
              "      <td>11.0</td>\n",
              "    </tr>\n",
              "    <tr>\n",
              "      <td>8</td>\n",
              "      <td>289.0</td>\n",
              "      <td>37.0</td>\n",
              "      <td>19.870117</td>\n",
              "      <td>13.0</td>\n",
              "    </tr>\n",
              "    <tr>\n",
              "      <td>9</td>\n",
              "      <td>206.0</td>\n",
              "      <td>25.0</td>\n",
              "      <td>16.320312</td>\n",
              "      <td>4.0</td>\n",
              "    </tr>\n",
              "    <tr>\n",
              "      <td>10</td>\n",
              "      <td>212.0</td>\n",
              "      <td>24.0</td>\n",
              "      <td>13.579102</td>\n",
              "      <td>10.0</td>\n",
              "    </tr>\n",
              "  </tbody>\n",
              "</table>\n",
              "</div>"
            ],
            "text/plain": [
              "               duration  duration_count    gb_used  messages\n",
              "user_id month                                               \n",
              "1000    5         159.0            17.0   2.203125      22.0\n",
              "        6         172.0            28.0  22.711914      60.0\n",
              "        7         340.0            41.0  13.687500      75.0\n",
              "        8         408.0            42.0  13.740234      81.0\n",
              "        9         466.0            46.0  14.239258      57.0\n",
              "        10        350.0            44.0  14.372070      73.0\n",
              "        11        338.0            37.0  14.421875      58.0\n",
              "        12        333.0            38.0   9.596680      70.0\n",
              "1001    11        430.0            45.0  18.019531       NaN\n",
              "        12        414.0            47.0  13.723633       NaN\n",
              "1002    6         117.0            14.0  10.616211       4.0\n",
              "        7         214.0            21.0  17.188477      11.0\n",
              "        8         289.0            37.0  19.870117      13.0\n",
              "        9         206.0            25.0  16.320312       4.0\n",
              "        10        212.0            24.0  13.579102      10.0"
            ]
          },
          "metadata": {
            "tags": []
          },
          "execution_count": 17
        }
      ]
    },
    {
      "cell_type": "code",
      "metadata": {
        "id": "0e25oLv_hkgo",
        "outputId": "4d8eb79e-b69f-4eed-cee4-0a68183d08fd"
      },
      "source": [
        "df.info()"
      ],
      "execution_count": null,
      "outputs": [
        {
          "output_type": "stream",
          "text": [
            "<class 'pandas.core.frame.DataFrame'>\n",
            "MultiIndex: 3214 entries, (1000, 5) to (1499, 12)\n",
            "Data columns (total 4 columns):\n",
            "duration          3168 non-null float64\n",
            "duration_count    3168 non-null float64\n",
            "gb_used           3203 non-null float64\n",
            "messages          2717 non-null float64\n",
            "dtypes: float64(4)\n",
            "memory usage: 113.9 KB\n"
          ],
          "name": "stdout"
        }
      ]
    },
    {
      "cell_type": "markdown",
      "metadata": {
        "id": "OGNCbkEuhkgo"
      },
      "source": [
        "Объединил в одну таблицу вышеупомянутые таблицы (количество минут, ГБ, смс). Поскольку у этих таблиц мультииндекс, то они объединились без проблем. Сразу же добавить таблицу с тарифами не получилось, поскольку в ней нет мультииндекса."
      ]
    },
    {
      "cell_type": "code",
      "metadata": {
        "id": "ltkg0Qr2hkgp",
        "outputId": "e5a76e45-4875-4bbc-c8c8-698c8d92c427"
      },
      "source": [
        "df.reset_index(inplace=True)\n",
        "df.head(15)\n"
      ],
      "execution_count": null,
      "outputs": [
        {
          "output_type": "execute_result",
          "data": {
            "text/html": [
              "<div>\n",
              "<style scoped>\n",
              "    .dataframe tbody tr th:only-of-type {\n",
              "        vertical-align: middle;\n",
              "    }\n",
              "\n",
              "    .dataframe tbody tr th {\n",
              "        vertical-align: top;\n",
              "    }\n",
              "\n",
              "    .dataframe thead th {\n",
              "        text-align: right;\n",
              "    }\n",
              "</style>\n",
              "<table border=\"1\" class=\"dataframe\">\n",
              "  <thead>\n",
              "    <tr style=\"text-align: right;\">\n",
              "      <th></th>\n",
              "      <th>user_id</th>\n",
              "      <th>month</th>\n",
              "      <th>duration</th>\n",
              "      <th>duration_count</th>\n",
              "      <th>gb_used</th>\n",
              "      <th>messages</th>\n",
              "    </tr>\n",
              "  </thead>\n",
              "  <tbody>\n",
              "    <tr>\n",
              "      <td>0</td>\n",
              "      <td>1000</td>\n",
              "      <td>5</td>\n",
              "      <td>159.0</td>\n",
              "      <td>17.0</td>\n",
              "      <td>2.203125</td>\n",
              "      <td>22.0</td>\n",
              "    </tr>\n",
              "    <tr>\n",
              "      <td>1</td>\n",
              "      <td>1000</td>\n",
              "      <td>6</td>\n",
              "      <td>172.0</td>\n",
              "      <td>28.0</td>\n",
              "      <td>22.711914</td>\n",
              "      <td>60.0</td>\n",
              "    </tr>\n",
              "    <tr>\n",
              "      <td>2</td>\n",
              "      <td>1000</td>\n",
              "      <td>7</td>\n",
              "      <td>340.0</td>\n",
              "      <td>41.0</td>\n",
              "      <td>13.687500</td>\n",
              "      <td>75.0</td>\n",
              "    </tr>\n",
              "    <tr>\n",
              "      <td>3</td>\n",
              "      <td>1000</td>\n",
              "      <td>8</td>\n",
              "      <td>408.0</td>\n",
              "      <td>42.0</td>\n",
              "      <td>13.740234</td>\n",
              "      <td>81.0</td>\n",
              "    </tr>\n",
              "    <tr>\n",
              "      <td>4</td>\n",
              "      <td>1000</td>\n",
              "      <td>9</td>\n",
              "      <td>466.0</td>\n",
              "      <td>46.0</td>\n",
              "      <td>14.239258</td>\n",
              "      <td>57.0</td>\n",
              "    </tr>\n",
              "    <tr>\n",
              "      <td>5</td>\n",
              "      <td>1000</td>\n",
              "      <td>10</td>\n",
              "      <td>350.0</td>\n",
              "      <td>44.0</td>\n",
              "      <td>14.372070</td>\n",
              "      <td>73.0</td>\n",
              "    </tr>\n",
              "    <tr>\n",
              "      <td>6</td>\n",
              "      <td>1000</td>\n",
              "      <td>11</td>\n",
              "      <td>338.0</td>\n",
              "      <td>37.0</td>\n",
              "      <td>14.421875</td>\n",
              "      <td>58.0</td>\n",
              "    </tr>\n",
              "    <tr>\n",
              "      <td>7</td>\n",
              "      <td>1000</td>\n",
              "      <td>12</td>\n",
              "      <td>333.0</td>\n",
              "      <td>38.0</td>\n",
              "      <td>9.596680</td>\n",
              "      <td>70.0</td>\n",
              "    </tr>\n",
              "    <tr>\n",
              "      <td>8</td>\n",
              "      <td>1001</td>\n",
              "      <td>11</td>\n",
              "      <td>430.0</td>\n",
              "      <td>45.0</td>\n",
              "      <td>18.019531</td>\n",
              "      <td>NaN</td>\n",
              "    </tr>\n",
              "    <tr>\n",
              "      <td>9</td>\n",
              "      <td>1001</td>\n",
              "      <td>12</td>\n",
              "      <td>414.0</td>\n",
              "      <td>47.0</td>\n",
              "      <td>13.723633</td>\n",
              "      <td>NaN</td>\n",
              "    </tr>\n",
              "    <tr>\n",
              "      <td>10</td>\n",
              "      <td>1002</td>\n",
              "      <td>6</td>\n",
              "      <td>117.0</td>\n",
              "      <td>14.0</td>\n",
              "      <td>10.616211</td>\n",
              "      <td>4.0</td>\n",
              "    </tr>\n",
              "    <tr>\n",
              "      <td>11</td>\n",
              "      <td>1002</td>\n",
              "      <td>7</td>\n",
              "      <td>214.0</td>\n",
              "      <td>21.0</td>\n",
              "      <td>17.188477</td>\n",
              "      <td>11.0</td>\n",
              "    </tr>\n",
              "    <tr>\n",
              "      <td>12</td>\n",
              "      <td>1002</td>\n",
              "      <td>8</td>\n",
              "      <td>289.0</td>\n",
              "      <td>37.0</td>\n",
              "      <td>19.870117</td>\n",
              "      <td>13.0</td>\n",
              "    </tr>\n",
              "    <tr>\n",
              "      <td>13</td>\n",
              "      <td>1002</td>\n",
              "      <td>9</td>\n",
              "      <td>206.0</td>\n",
              "      <td>25.0</td>\n",
              "      <td>16.320312</td>\n",
              "      <td>4.0</td>\n",
              "    </tr>\n",
              "    <tr>\n",
              "      <td>14</td>\n",
              "      <td>1002</td>\n",
              "      <td>10</td>\n",
              "      <td>212.0</td>\n",
              "      <td>24.0</td>\n",
              "      <td>13.579102</td>\n",
              "      <td>10.0</td>\n",
              "    </tr>\n",
              "  </tbody>\n",
              "</table>\n",
              "</div>"
            ],
            "text/plain": [
              "    user_id  month  duration  duration_count    gb_used  messages\n",
              "0      1000      5     159.0            17.0   2.203125      22.0\n",
              "1      1000      6     172.0            28.0  22.711914      60.0\n",
              "2      1000      7     340.0            41.0  13.687500      75.0\n",
              "3      1000      8     408.0            42.0  13.740234      81.0\n",
              "4      1000      9     466.0            46.0  14.239258      57.0\n",
              "5      1000     10     350.0            44.0  14.372070      73.0\n",
              "6      1000     11     338.0            37.0  14.421875      58.0\n",
              "7      1000     12     333.0            38.0   9.596680      70.0\n",
              "8      1001     11     430.0            45.0  18.019531       NaN\n",
              "9      1001     12     414.0            47.0  13.723633       NaN\n",
              "10     1002      6     117.0            14.0  10.616211       4.0\n",
              "11     1002      7     214.0            21.0  17.188477      11.0\n",
              "12     1002      8     289.0            37.0  19.870117      13.0\n",
              "13     1002      9     206.0            25.0  16.320312       4.0\n",
              "14     1002     10     212.0            24.0  13.579102      10.0"
            ]
          },
          "metadata": {
            "tags": []
          },
          "execution_count": 19
        }
      ]
    },
    {
      "cell_type": "markdown",
      "metadata": {
        "id": "mCQvhuN3hkgp"
      },
      "source": [
        "Убрал мультииндекс, теперь ДФ с обычными индексами, как и таблица с тарифами для каждого пользователя"
      ]
    },
    {
      "cell_type": "code",
      "metadata": {
        "id": "Pugss-wRhkgp",
        "outputId": "89f45459-d11d-406d-8a75-12e5970df554"
      },
      "source": [
        "df = df.merge(new_df_5, on = 'user_id', how = 'left')\n",
        "df.tail(20)\n",
        "df.info()"
      ],
      "execution_count": null,
      "outputs": [
        {
          "output_type": "stream",
          "text": [
            "<class 'pandas.core.frame.DataFrame'>\n",
            "Int64Index: 3214 entries, 0 to 3213\n",
            "Data columns (total 7 columns):\n",
            "user_id           3214 non-null int64\n",
            "month             3214 non-null int64\n",
            "duration          3168 non-null float64\n",
            "duration_count    3168 non-null float64\n",
            "gb_used           3203 non-null float64\n",
            "messages          2717 non-null float64\n",
            "tariff            3214 non-null object\n",
            "dtypes: float64(4), int64(2), object(1)\n",
            "memory usage: 200.9+ KB\n"
          ],
          "name": "stdout"
        }
      ]
    },
    {
      "cell_type": "markdown",
      "metadata": {
        "id": "aB1nBnyphkgp"
      },
      "source": [
        "Объединил таблицы. Но, по неизвестным мне причинам, лобавились столбцы tariff_x  и tariff_y"
      ]
    },
    {
      "cell_type": "code",
      "metadata": {
        "id": "o-F4hVS-hkgq",
        "outputId": "99ef9810-5b3f-49dc-8e7b-a8af84c7b387"
      },
      "source": [
        "df.info()"
      ],
      "execution_count": null,
      "outputs": [
        {
          "output_type": "stream",
          "text": [
            "<class 'pandas.core.frame.DataFrame'>\n",
            "Int64Index: 3214 entries, 0 to 3213\n",
            "Data columns (total 7 columns):\n",
            "user_id           3214 non-null int64\n",
            "month             3214 non-null int64\n",
            "duration          3168 non-null float64\n",
            "duration_count    3168 non-null float64\n",
            "gb_used           3203 non-null float64\n",
            "messages          2717 non-null float64\n",
            "tariff            3214 non-null object\n",
            "dtypes: float64(4), int64(2), object(1)\n",
            "memory usage: 200.9+ KB\n"
          ],
          "name": "stdout"
        }
      ]
    },
    {
      "cell_type": "code",
      "metadata": {
        "id": "dNxzn5s-hkgr"
      },
      "source": [
        "df['duration_over'] = 1.1\n",
        "df['gb_used_over'] = 1.1\n",
        "df['messages_over'] = 1.1\n",
        "\n",
        "line = -1\n",
        "\n",
        "for element in df['tariff']:\n",
        "    line += 1\n",
        "    if element == 'smart':\n",
        "        df['duration_over'][line] = df['duration'][line] - 500\n",
        "        df['gb_used_over'][line] = df['gb_used'][line] - 15\n",
        "        df['messages_over'][line] = df['messages'][line] - 50\n",
        "    elif element == 'ultra':\n",
        "        df['duration_over'][line] = df['duration'][line] - 3000\n",
        "        df['gb_used_over'][line] = df['gb_used'][line] - 30\n",
        "        df['messages_over'][line] = df['messages'][line] - 1000      "
      ],
      "execution_count": null,
      "outputs": []
    },
    {
      "cell_type": "markdown",
      "metadata": {
        "id": "1viyomFohkgr"
      },
      "source": [
        "Добавил в получивуюся основную таблицу столбцы со значением минут, ГБ, смс, которые использованы сверх тарифного плана"
      ]
    },
    {
      "cell_type": "code",
      "metadata": {
        "id": "RDn8Bs7Zhkgr"
      },
      "source": [
        "df['duration_over'] = [0 if i < 0 else i for i in df['duration_over']]\n",
        "df['gb_used_over'] = [0 if i < 0 else i for i in df['gb_used_over']]\n",
        "df['messages_over'] = [0 if i < 0 else i for i in df['messages_over']]"
      ],
      "execution_count": null,
      "outputs": []
    },
    {
      "cell_type": "markdown",
      "metadata": {
        "id": "oFpt8JU4hkgr"
      },
      "source": [
        "В тех ячейках, где получилось отрицательное число (т.е. пользователь не использовал все возможности тарифа), поставил ноль"
      ]
    },
    {
      "cell_type": "code",
      "metadata": {
        "id": "TmStdniMhkgr",
        "outputId": "1c87e277-94f0-4500-998c-f27b4da4b5ab"
      },
      "source": [
        "df.head()"
      ],
      "execution_count": null,
      "outputs": [
        {
          "output_type": "execute_result",
          "data": {
            "text/html": [
              "<div>\n",
              "<style scoped>\n",
              "    .dataframe tbody tr th:only-of-type {\n",
              "        vertical-align: middle;\n",
              "    }\n",
              "\n",
              "    .dataframe tbody tr th {\n",
              "        vertical-align: top;\n",
              "    }\n",
              "\n",
              "    .dataframe thead th {\n",
              "        text-align: right;\n",
              "    }\n",
              "</style>\n",
              "<table border=\"1\" class=\"dataframe\">\n",
              "  <thead>\n",
              "    <tr style=\"text-align: right;\">\n",
              "      <th></th>\n",
              "      <th>user_id</th>\n",
              "      <th>month</th>\n",
              "      <th>duration</th>\n",
              "      <th>duration_count</th>\n",
              "      <th>gb_used</th>\n",
              "      <th>messages</th>\n",
              "      <th>tariff</th>\n",
              "      <th>duration_over</th>\n",
              "      <th>gb_used_over</th>\n",
              "      <th>messages_over</th>\n",
              "    </tr>\n",
              "  </thead>\n",
              "  <tbody>\n",
              "    <tr>\n",
              "      <td>0</td>\n",
              "      <td>1000</td>\n",
              "      <td>5</td>\n",
              "      <td>159.0</td>\n",
              "      <td>17.0</td>\n",
              "      <td>2.203125</td>\n",
              "      <td>22.0</td>\n",
              "      <td>ultra</td>\n",
              "      <td>0.0</td>\n",
              "      <td>0.0</td>\n",
              "      <td>0.0</td>\n",
              "    </tr>\n",
              "    <tr>\n",
              "      <td>1</td>\n",
              "      <td>1000</td>\n",
              "      <td>6</td>\n",
              "      <td>172.0</td>\n",
              "      <td>28.0</td>\n",
              "      <td>22.711914</td>\n",
              "      <td>60.0</td>\n",
              "      <td>ultra</td>\n",
              "      <td>0.0</td>\n",
              "      <td>0.0</td>\n",
              "      <td>0.0</td>\n",
              "    </tr>\n",
              "    <tr>\n",
              "      <td>2</td>\n",
              "      <td>1000</td>\n",
              "      <td>7</td>\n",
              "      <td>340.0</td>\n",
              "      <td>41.0</td>\n",
              "      <td>13.687500</td>\n",
              "      <td>75.0</td>\n",
              "      <td>ultra</td>\n",
              "      <td>0.0</td>\n",
              "      <td>0.0</td>\n",
              "      <td>0.0</td>\n",
              "    </tr>\n",
              "    <tr>\n",
              "      <td>3</td>\n",
              "      <td>1000</td>\n",
              "      <td>8</td>\n",
              "      <td>408.0</td>\n",
              "      <td>42.0</td>\n",
              "      <td>13.740234</td>\n",
              "      <td>81.0</td>\n",
              "      <td>ultra</td>\n",
              "      <td>0.0</td>\n",
              "      <td>0.0</td>\n",
              "      <td>0.0</td>\n",
              "    </tr>\n",
              "    <tr>\n",
              "      <td>4</td>\n",
              "      <td>1000</td>\n",
              "      <td>9</td>\n",
              "      <td>466.0</td>\n",
              "      <td>46.0</td>\n",
              "      <td>14.239258</td>\n",
              "      <td>57.0</td>\n",
              "      <td>ultra</td>\n",
              "      <td>0.0</td>\n",
              "      <td>0.0</td>\n",
              "      <td>0.0</td>\n",
              "    </tr>\n",
              "  </tbody>\n",
              "</table>\n",
              "</div>"
            ],
            "text/plain": [
              "   user_id  month  duration  duration_count    gb_used  messages tariff  \\\n",
              "0     1000      5     159.0            17.0   2.203125      22.0  ultra   \n",
              "1     1000      6     172.0            28.0  22.711914      60.0  ultra   \n",
              "2     1000      7     340.0            41.0  13.687500      75.0  ultra   \n",
              "3     1000      8     408.0            42.0  13.740234      81.0  ultra   \n",
              "4     1000      9     466.0            46.0  14.239258      57.0  ultra   \n",
              "\n",
              "   duration_over  gb_used_over  messages_over  \n",
              "0            0.0           0.0            0.0  \n",
              "1            0.0           0.0            0.0  \n",
              "2            0.0           0.0            0.0  \n",
              "3            0.0           0.0            0.0  \n",
              "4            0.0           0.0            0.0  "
            ]
          },
          "metadata": {
            "tags": []
          },
          "execution_count": 26
        }
      ]
    },
    {
      "cell_type": "code",
      "metadata": {
        "id": "PTY4CVW2hkgs"
      },
      "source": [
        "df['duration_over_price'] = 1.1\n",
        "df['gb_used_over_price'] = 1.1\n",
        "df['messages_over_price'] = 1.1\n",
        "\n",
        "line = -1\n",
        "\n",
        "for element in df['tariff']:\n",
        "    line += 1\n",
        "    if element == 'smart':\n",
        "        df['duration_over_price'][line] = df['duration_over'][line] * 3\n",
        "        df['gb_used_over_price'][line] = df['gb_used_over'][line] * 200\n",
        "        df['messages_over_price'][line] = df['messages_over'][line] * 3\n",
        "    elif element == 'ultra':\n",
        "        df['duration_over_price'][line] = df['duration_over'][line] * 1\n",
        "        df['gb_used_over_price'][line] = df['gb_used_over'][line] * 150\n",
        "        df['messages_over_price'][line] = df['messages_over'][line] * 1"
      ],
      "execution_count": null,
      "outputs": []
    },
    {
      "cell_type": "markdown",
      "metadata": {
        "id": "4aDXlmPUhkgs"
      },
      "source": [
        "Добавил столбцы с ценой за дополнительные минуты, ГБ, смс"
      ]
    },
    {
      "cell_type": "code",
      "metadata": {
        "id": "P8JkrS8ohkgs"
      },
      "source": [
        "pd.options.display.precision = 3\n",
        "df = df.fillna(0)"
      ],
      "execution_count": null,
      "outputs": []
    },
    {
      "cell_type": "markdown",
      "metadata": {
        "id": "9DK0M67Chkgs"
      },
      "source": [
        "Для того, чтобы получить конечное число, которое пользователь заплатил за услуги в данном месяце, должны быть заполнены все ячейки нужных столбцов. Поскольку в некоторых столбцах стоит значение NaN, то заменяю его на ноль"
      ]
    },
    {
      "cell_type": "code",
      "metadata": {
        "id": "I0BhCsJ4hkgs"
      },
      "source": [
        "df.loc[df.tariff == 'smart', 'tot_price'] = df['duration_over_price']+ df['gb_used_over_price'] + df['messages_over_price'] + 550\n",
        "df.loc[df.tariff == 'ultra', 'tot_price'] = df['duration_over_price']+ df['gb_used_over_price'] + df['messages_over_price'] + 1950"
      ],
      "execution_count": null,
      "outputs": []
    },
    {
      "cell_type": "markdown",
      "metadata": {
        "id": "4zj4I9n-hkgt"
      },
      "source": [
        "Добавил столбец с окончательной ценой, которую заплатил пользователь в конкретный месяц"
      ]
    },
    {
      "cell_type": "code",
      "metadata": {
        "scrolled": true,
        "id": "GS6zp-Clhkgt",
        "outputId": "caa57ed8-3b32-4484-fd87-529effc25b76"
      },
      "source": [
        "df.tail()"
      ],
      "execution_count": null,
      "outputs": [
        {
          "output_type": "execute_result",
          "data": {
            "text/html": [
              "<div>\n",
              "<style scoped>\n",
              "    .dataframe tbody tr th:only-of-type {\n",
              "        vertical-align: middle;\n",
              "    }\n",
              "\n",
              "    .dataframe tbody tr th {\n",
              "        vertical-align: top;\n",
              "    }\n",
              "\n",
              "    .dataframe thead th {\n",
              "        text-align: right;\n",
              "    }\n",
              "</style>\n",
              "<table border=\"1\" class=\"dataframe\">\n",
              "  <thead>\n",
              "    <tr style=\"text-align: right;\">\n",
              "      <th></th>\n",
              "      <th>user_id</th>\n",
              "      <th>month</th>\n",
              "      <th>duration</th>\n",
              "      <th>duration_count</th>\n",
              "      <th>gb_used</th>\n",
              "      <th>messages</th>\n",
              "      <th>tariff</th>\n",
              "      <th>duration_over</th>\n",
              "      <th>gb_used_over</th>\n",
              "      <th>messages_over</th>\n",
              "      <th>duration_over_price</th>\n",
              "      <th>gb_used_over_price</th>\n",
              "      <th>messages_over_price</th>\n",
              "      <th>tot_price</th>\n",
              "    </tr>\n",
              "  </thead>\n",
              "  <tbody>\n",
              "    <tr>\n",
              "      <td>3209</td>\n",
              "      <td>1498</td>\n",
              "      <td>10</td>\n",
              "      <td>247.0</td>\n",
              "      <td>30.0</td>\n",
              "      <td>20.121</td>\n",
              "      <td>42.0</td>\n",
              "      <td>smart</td>\n",
              "      <td>0.0</td>\n",
              "      <td>5.121</td>\n",
              "      <td>0.0</td>\n",
              "      <td>0.0</td>\n",
              "      <td>1024.219</td>\n",
              "      <td>0.0</td>\n",
              "      <td>1574.219</td>\n",
              "    </tr>\n",
              "    <tr>\n",
              "      <td>3210</td>\n",
              "      <td>1499</td>\n",
              "      <td>9</td>\n",
              "      <td>70.0</td>\n",
              "      <td>8.0</td>\n",
              "      <td>1.805</td>\n",
              "      <td>11.0</td>\n",
              "      <td>smart</td>\n",
              "      <td>0.0</td>\n",
              "      <td>0.000</td>\n",
              "      <td>0.0</td>\n",
              "      <td>0.0</td>\n",
              "      <td>0.000</td>\n",
              "      <td>0.0</td>\n",
              "      <td>550.000</td>\n",
              "    </tr>\n",
              "    <tr>\n",
              "      <td>3211</td>\n",
              "      <td>1499</td>\n",
              "      <td>10</td>\n",
              "      <td>449.0</td>\n",
              "      <td>44.0</td>\n",
              "      <td>17.392</td>\n",
              "      <td>48.0</td>\n",
              "      <td>smart</td>\n",
              "      <td>0.0</td>\n",
              "      <td>2.392</td>\n",
              "      <td>0.0</td>\n",
              "      <td>0.0</td>\n",
              "      <td>478.320</td>\n",
              "      <td>0.0</td>\n",
              "      <td>1028.320</td>\n",
              "    </tr>\n",
              "    <tr>\n",
              "      <td>3212</td>\n",
              "      <td>1499</td>\n",
              "      <td>11</td>\n",
              "      <td>612.0</td>\n",
              "      <td>62.0</td>\n",
              "      <td>17.562</td>\n",
              "      <td>59.0</td>\n",
              "      <td>smart</td>\n",
              "      <td>112.0</td>\n",
              "      <td>2.562</td>\n",
              "      <td>9.0</td>\n",
              "      <td>336.0</td>\n",
              "      <td>512.500</td>\n",
              "      <td>27.0</td>\n",
              "      <td>1425.500</td>\n",
              "    </tr>\n",
              "    <tr>\n",
              "      <td>3213</td>\n",
              "      <td>1499</td>\n",
              "      <td>12</td>\n",
              "      <td>492.0</td>\n",
              "      <td>56.0</td>\n",
              "      <td>12.771</td>\n",
              "      <td>66.0</td>\n",
              "      <td>smart</td>\n",
              "      <td>0.0</td>\n",
              "      <td>0.000</td>\n",
              "      <td>16.0</td>\n",
              "      <td>0.0</td>\n",
              "      <td>0.000</td>\n",
              "      <td>48.0</td>\n",
              "      <td>598.000</td>\n",
              "    </tr>\n",
              "  </tbody>\n",
              "</table>\n",
              "</div>"
            ],
            "text/plain": [
              "      user_id  month  duration  duration_count  gb_used  messages tariff  \\\n",
              "3209     1498     10     247.0            30.0   20.121      42.0  smart   \n",
              "3210     1499      9      70.0             8.0    1.805      11.0  smart   \n",
              "3211     1499     10     449.0            44.0   17.392      48.0  smart   \n",
              "3212     1499     11     612.0            62.0   17.562      59.0  smart   \n",
              "3213     1499     12     492.0            56.0   12.771      66.0  smart   \n",
              "\n",
              "      duration_over  gb_used_over  messages_over  duration_over_price  \\\n",
              "3209            0.0         5.121            0.0                  0.0   \n",
              "3210            0.0         0.000            0.0                  0.0   \n",
              "3211            0.0         2.392            0.0                  0.0   \n",
              "3212          112.0         2.562            9.0                336.0   \n",
              "3213            0.0         0.000           16.0                  0.0   \n",
              "\n",
              "      gb_used_over_price  messages_over_price  tot_price  \n",
              "3209            1024.219                  0.0   1574.219  \n",
              "3210               0.000                  0.0    550.000  \n",
              "3211             478.320                  0.0   1028.320  \n",
              "3212             512.500                 27.0   1425.500  \n",
              "3213               0.000                 48.0    598.000  "
            ]
          },
          "metadata": {
            "tags": []
          },
          "execution_count": 31
        }
      ]
    },
    {
      "cell_type": "markdown",
      "metadata": {
        "id": "7UXSJKoShkgu"
      },
      "source": [
        "<div>\n",
        "    \n",
        "<b> Вывод по этапу обработки данных</b>\n",
        "    \n",
        "На данном этапе объединил исходные таблицы в одну основную таблицу. Посчитал количество минут, ГБ и смс, которые каждый пользователь потратил сверх твоего пакета, и сколько придется заплатить за них. Посчитал, сколько пользователь заплатил в месяц, с учетом перерасхода пакета услуг.\n",
        "    \n",
        "При подготовке данных заметил, что в некоторых ячейках отсутствуют значения (т.е. значение ячейки равно \"NaN\"). Для того, чтобы можно было производить необходимые операции с данными ячейками, заменил их на ноль.\n",
        "    \n",
        "Также заметил, что в исходной таблице с количеством использованных мегабайт есть нулевые значения. Получается, что пользователь начал новую интернет-сессию, но мегабайты при этом не расходуются. Возможно это связано с тем, что пользователь тратит несколько килобайт, что свляется ниже порогового значения, от которого начинается запись в таблицу. \n",
        "</div>"
      ]
    },
    {
      "cell_type": "markdown",
      "metadata": {
        "id": "kEXcgghBhkgu"
      },
      "source": [
        "Анализ обработанных данных\n",
        "========"
      ]
    },
    {
      "cell_type": "code",
      "metadata": {
        "id": "PuoMJPTbhkgu",
        "outputId": "fa8daae3-7698-4f15-f69e-814c715c5890"
      },
      "source": [
        "q75 = np.percentile(df['tot_price'], 75)\n",
        "q25 = np.percentile(df['tot_price'], 25)\n",
        "iqr = q75 - q25\n",
        "low_range = (q25 - 1.5 * iqr)\n",
        "high_range = (q75 + 1.5 * iqr)\n",
        "df['tot_price'].hist(range = (low_range, high_range))"
      ],
      "execution_count": null,
      "outputs": [
        {
          "output_type": "execute_result",
          "data": {
            "text/plain": [
              "<matplotlib.axes._subplots.AxesSubplot at 0x7fbcfdb69b90>"
            ]
          },
          "metadata": {
            "tags": []
          },
          "execution_count": 32
        },
        {
          "output_type": "display_data",
          "data": {
            "image/png": "[encoded data removed]",
            "text/plain": [
              "<Figure size 432x288 with 1 Axes>"
            ]
          },
          "metadata": {
            "tags": [],
            "needs_background": "light"
          }
        }
      ]
    },
    {
      "cell_type": "markdown",
      "metadata": {
        "id": "LKIAOiXRhkgv"
      },
      "source": [
        "Видим, что большинство людей вписываются в рамки своего тарифа, но в тарифе за 550р люди часто доплачивают за дополнительные пакеты."
      ]
    },
    {
      "cell_type": "markdown",
      "metadata": {
        "id": "znJhBkGihkgv"
      },
      "source": [
        "***Для тарифа smart***"
      ]
    },
    {
      "cell_type": "code",
      "metadata": {
        "id": "6TRGHCYChkgv"
      },
      "source": [
        "df_smart = df.query('tariff == \"smart\"')"
      ],
      "execution_count": null,
      "outputs": []
    },
    {
      "cell_type": "code",
      "metadata": {
        "id": "xinlf-zWhkgw",
        "outputId": "9eebd254-33d4-450b-c2ad-280a6edf2b69"
      },
      "source": [
        "df_smart.head()"
      ],
      "execution_count": null,
      "outputs": [
        {
          "output_type": "execute_result",
          "data": {
            "text/html": [
              "<div>\n",
              "<style scoped>\n",
              "    .dataframe tbody tr th:only-of-type {\n",
              "        vertical-align: middle;\n",
              "    }\n",
              "\n",
              "    .dataframe tbody tr th {\n",
              "        vertical-align: top;\n",
              "    }\n",
              "\n",
              "    .dataframe thead th {\n",
              "        text-align: right;\n",
              "    }\n",
              "</style>\n",
              "<table border=\"1\" class=\"dataframe\">\n",
              "  <thead>\n",
              "    <tr style=\"text-align: right;\">\n",
              "      <th></th>\n",
              "      <th>user_id</th>\n",
              "      <th>month</th>\n",
              "      <th>duration</th>\n",
              "      <th>duration_count</th>\n",
              "      <th>gb_used</th>\n",
              "      <th>messages</th>\n",
              "      <th>tariff</th>\n",
              "      <th>duration_over</th>\n",
              "      <th>gb_used_over</th>\n",
              "      <th>messages_over</th>\n",
              "      <th>duration_over_price</th>\n",
              "      <th>gb_used_over_price</th>\n",
              "      <th>messages_over_price</th>\n",
              "      <th>tot_price</th>\n",
              "    </tr>\n",
              "  </thead>\n",
              "  <tbody>\n",
              "    <tr>\n",
              "      <td>8</td>\n",
              "      <td>1001</td>\n",
              "      <td>11</td>\n",
              "      <td>430.0</td>\n",
              "      <td>45.0</td>\n",
              "      <td>18.020</td>\n",
              "      <td>0.0</td>\n",
              "      <td>smart</td>\n",
              "      <td>0.0</td>\n",
              "      <td>3.020</td>\n",
              "      <td>0.0</td>\n",
              "      <td>0.0</td>\n",
              "      <td>603.906</td>\n",
              "      <td>0.0</td>\n",
              "      <td>1153.906</td>\n",
              "    </tr>\n",
              "    <tr>\n",
              "      <td>9</td>\n",
              "      <td>1001</td>\n",
              "      <td>12</td>\n",
              "      <td>414.0</td>\n",
              "      <td>47.0</td>\n",
              "      <td>13.724</td>\n",
              "      <td>0.0</td>\n",
              "      <td>smart</td>\n",
              "      <td>0.0</td>\n",
              "      <td>0.000</td>\n",
              "      <td>0.0</td>\n",
              "      <td>0.0</td>\n",
              "      <td>0.000</td>\n",
              "      <td>0.0</td>\n",
              "      <td>550.000</td>\n",
              "    </tr>\n",
              "    <tr>\n",
              "      <td>10</td>\n",
              "      <td>1002</td>\n",
              "      <td>6</td>\n",
              "      <td>117.0</td>\n",
              "      <td>14.0</td>\n",
              "      <td>10.616</td>\n",
              "      <td>4.0</td>\n",
              "      <td>smart</td>\n",
              "      <td>0.0</td>\n",
              "      <td>0.000</td>\n",
              "      <td>0.0</td>\n",
              "      <td>0.0</td>\n",
              "      <td>0.000</td>\n",
              "      <td>0.0</td>\n",
              "      <td>550.000</td>\n",
              "    </tr>\n",
              "    <tr>\n",
              "      <td>11</td>\n",
              "      <td>1002</td>\n",
              "      <td>7</td>\n",
              "      <td>214.0</td>\n",
              "      <td>21.0</td>\n",
              "      <td>17.188</td>\n",
              "      <td>11.0</td>\n",
              "      <td>smart</td>\n",
              "      <td>0.0</td>\n",
              "      <td>2.188</td>\n",
              "      <td>0.0</td>\n",
              "      <td>0.0</td>\n",
              "      <td>437.695</td>\n",
              "      <td>0.0</td>\n",
              "      <td>987.695</td>\n",
              "    </tr>\n",
              "    <tr>\n",
              "      <td>12</td>\n",
              "      <td>1002</td>\n",
              "      <td>8</td>\n",
              "      <td>289.0</td>\n",
              "      <td>37.0</td>\n",
              "      <td>19.870</td>\n",
              "      <td>13.0</td>\n",
              "      <td>smart</td>\n",
              "      <td>0.0</td>\n",
              "      <td>4.870</td>\n",
              "      <td>0.0</td>\n",
              "      <td>0.0</td>\n",
              "      <td>974.023</td>\n",
              "      <td>0.0</td>\n",
              "      <td>1524.023</td>\n",
              "    </tr>\n",
              "  </tbody>\n",
              "</table>\n",
              "</div>"
            ],
            "text/plain": [
              "    user_id  month  duration  duration_count  gb_used  messages tariff  \\\n",
              "8      1001     11     430.0            45.0   18.020       0.0  smart   \n",
              "9      1001     12     414.0            47.0   13.724       0.0  smart   \n",
              "10     1002      6     117.0            14.0   10.616       4.0  smart   \n",
              "11     1002      7     214.0            21.0   17.188      11.0  smart   \n",
              "12     1002      8     289.0            37.0   19.870      13.0  smart   \n",
              "\n",
              "    duration_over  gb_used_over  messages_over  duration_over_price  \\\n",
              "8             0.0         3.020            0.0                  0.0   \n",
              "9             0.0         0.000            0.0                  0.0   \n",
              "10            0.0         0.000            0.0                  0.0   \n",
              "11            0.0         2.188            0.0                  0.0   \n",
              "12            0.0         4.870            0.0                  0.0   \n",
              "\n",
              "    gb_used_over_price  messages_over_price  tot_price  \n",
              "8              603.906                  0.0   1153.906  \n",
              "9                0.000                  0.0    550.000  \n",
              "10               0.000                  0.0    550.000  \n",
              "11             437.695                  0.0    987.695  \n",
              "12             974.023                  0.0   1524.023  "
            ]
          },
          "metadata": {
            "tags": []
          },
          "execution_count": 34
        }
      ]
    },
    {
      "cell_type": "markdown",
      "metadata": {
        "id": "ajUxybf4hkgw"
      },
      "source": [
        "Создал таблицу, в которой пользователи только тарифа smart"
      ]
    },
    {
      "cell_type": "code",
      "metadata": {
        "id": "oP9OduBghkgw",
        "outputId": "d31e217b-17de-4fe0-f21f-9d85bf5894cd"
      },
      "source": [
        "print('Для пакета минут:')\n",
        "print('Среднее:', df_smart['duration'].mean())\n",
        "print('Медиана:', df_smart['duration'].median())\n",
        "variance = np.var(df_smart['duration'])\n",
        "print('Дисперсия:', variance)\n",
        "standard_deviation = np.sqrt(variance)\n",
        "print('Стандартное отклонение:', standard_deviation)\n",
        "df_smart['duration'].hist()"
      ],
      "execution_count": null,
      "outputs": [
        {
          "output_type": "stream",
          "text": [
            "Для пакета минут:\n",
            "Среднее: 417.9349484073576\n",
            "Медиана: 422.0\n",
            "Дисперсия: 36203.06665209469\n",
            "Стандартное отклонение: 190.27103471651876\n"
          ],
          "name": "stdout"
        },
        {
          "output_type": "execute_result",
          "data": {
            "text/plain": [
              "<matplotlib.axes._subplots.AxesSubplot at 0x7fbcfd39a490>"
            ]
          },
          "metadata": {
            "tags": []
          },
          "execution_count": 35
        },
        {
          "output_type": "display_data",
          "data": {
            "image/png": "[encoded data removed]",
            "text/plain": [
              "<Figure size 432x288 with 1 Axes>"
            ]
          },
          "metadata": {
            "tags": [],
            "needs_background": "light"
          }
        }
      ]
    },
    {
      "cell_type": "markdown",
      "metadata": {
        "id": "3f1tzdb5hkgw"
      },
      "source": [
        "Для пользователей тарифа smart характерно разговаривать по телефону в среднем ~400 минут в месяц."
      ]
    },
    {
      "cell_type": "code",
      "metadata": {
        "id": "ZQiumNtMhkgw",
        "outputId": "1e482ac4-0aa1-4069-e52c-8ec9afc4e571"
      },
      "source": [
        "print('Для пакета интернета:')\n",
        "print('Среднее:', df_smart['gb_used'].mean())\n",
        "print('Медиана:', df_smart['gb_used'].median())\n",
        "variance = np.var(df_smart['gb_used'])\n",
        "print('Дисперсия:', variance)\n",
        "standard_deviation = np.sqrt(variance)\n",
        "print('Стандартное отклонение:', standard_deviation)\n",
        "df_smart['gb_used'].hist()"
      ],
      "execution_count": null,
      "outputs": [
        {
          "output_type": "stream",
          "text": [
            "Для пакета интернета:\n",
            "Среднее: 15.84881682158479\n",
            "Медиана: 16.1435546875\n",
            "Дисперсия: 32.930767762221954\n",
            "Стандартное отклонение: 5.7385335898835645\n"
          ],
          "name": "stdout"
        },
        {
          "output_type": "execute_result",
          "data": {
            "text/plain": [
              "<matplotlib.axes._subplots.AxesSubplot at 0x7fbcfd2d6810>"
            ]
          },
          "metadata": {
            "tags": []
          },
          "execution_count": 36
        },
        {
          "output_type": "display_data",
          "data": {
            "image/png": "[encoded data removed]",
            "text/plain": [
              "<Figure size 432x288 with 1 Axes>"
            ]
          },
          "metadata": {
            "tags": [],
            "needs_background": "light"
          }
        }
      ]
    },
    {
      "cell_type": "markdown",
      "metadata": {
        "id": "hU-OwwA5hkgx"
      },
      "source": [
        "Для пользователей тарифа smart характерно использовать в среднем ~16 гигабайт в месяц."
      ]
    },
    {
      "cell_type": "code",
      "metadata": {
        "id": "dqFbpYSChkgx",
        "outputId": "07033763-670c-4e4e-c49f-d93941585eb7"
      },
      "source": [
        "print('Для пакета сообщений:')\n",
        "print('Среднее:', df_smart['messages'].mean())\n",
        "print('Медиана:', df_smart['messages'].median())\n",
        "variance = np.var(df_smart['messages'])\n",
        "print('Дисперсия:', variance)\n",
        "standard_deviation = np.sqrt(variance)\n",
        "print('Стандартное отклонение:', standard_deviation)\n",
        "df_smart['messages'].hist()"
      ],
      "execution_count": null,
      "outputs": [
        {
          "output_type": "stream",
          "text": [
            "Для пакета сообщений:\n",
            "Среднее: 33.384028712427096\n",
            "Медиана: 28.0\n",
            "Дисперсия: 796.455482917076\n",
            "Стандартное отклонение: 28.221542886898938\n"
          ],
          "name": "stdout"
        },
        {
          "output_type": "execute_result",
          "data": {
            "text/plain": [
              "<matplotlib.axes._subplots.AxesSubplot at 0x7fbcfd2799d0>"
            ]
          },
          "metadata": {
            "tags": []
          },
          "execution_count": 37
        },
        {
          "output_type": "display_data",
          "data": {
            "image/png": "[encoded data removed]",
            "text/plain": [
              "<Figure size 432x288 with 1 Axes>"
            ]
          },
          "metadata": {
            "tags": [],
            "needs_background": "light"
          }
        }
      ]
    },
    {
      "cell_type": "markdown",
      "metadata": {
        "id": "XexUc_fahkgx"
      },
      "source": [
        "Для пользователей тарифа smart характерно отправлять в среднем ~30 смс в месяц. При этом, многие использую очень мало смс из пакета."
      ]
    },
    {
      "cell_type": "markdown",
      "metadata": {
        "id": "YF2GK7W5hkgx"
      },
      "source": [
        "***Для тарифа ultra***"
      ]
    },
    {
      "cell_type": "code",
      "metadata": {
        "id": "w9PmZ-mmhkgy"
      },
      "source": [
        "df_ultra = df.query('tariff == \"ultra\"')"
      ],
      "execution_count": null,
      "outputs": []
    },
    {
      "cell_type": "markdown",
      "metadata": {
        "id": "qvqkWQUmhkgy"
      },
      "source": [
        "Создал таблицу, в которой пользователи только тарифа ultra"
      ]
    },
    {
      "cell_type": "code",
      "metadata": {
        "id": "DtOWEofJhkgy",
        "outputId": "1d789e96-a0f7-4327-e5a3-9a066cab7068"
      },
      "source": [
        "print('Для пакета минут:')\n",
        "print('Среднее:', df_ultra['duration'].mean())\n",
        "print('Медиана:', df_ultra['duration'].median())\n",
        "variance = np.var(df_ultra['duration'])\n",
        "print('Дисперсия:', variance)\n",
        "standard_deviation = np.sqrt(variance)\n",
        "print('Стандартное отклонение:', standard_deviation)\n",
        "df_ultra['duration'].hist()"
      ],
      "execution_count": null,
      "outputs": [
        {
          "output_type": "stream",
          "text": [
            "Для пакета минут:\n",
            "Среднее: 526.6233502538071\n",
            "Медиана: 518.0\n",
            "Дисперсия: 100771.2236172022\n",
            "Стандартное отклонение: 317.44483554974113\n"
          ],
          "name": "stdout"
        },
        {
          "output_type": "execute_result",
          "data": {
            "text/plain": [
              "<matplotlib.axes._subplots.AxesSubplot at 0x7fbcf4bd6ad0>"
            ]
          },
          "metadata": {
            "tags": []
          },
          "execution_count": 39
        },
        {
          "output_type": "display_data",
          "data": {
            "image/png": "[encoded data removed]",
            "text/plain": [
              "<Figure size 432x288 with 1 Axes>"
            ]
          },
          "metadata": {
            "tags": [],
            "needs_background": "light"
          }
        }
      ]
    },
    {
      "cell_type": "markdown",
      "metadata": {
        "id": "IYytLuhjhkgy"
      },
      "source": [
        "Для пользователей тарифа ultra характерно разговаривать по телефону в среднем ~500 минут в месяц."
      ]
    },
    {
      "cell_type": "code",
      "metadata": {
        "id": "CAdKgMwLhkgy",
        "outputId": "96562028-3828-4d5c-cf41-5d817e5ddbc0"
      },
      "source": [
        "print('Для пакета интернета:')\n",
        "print('Среднее:', df_ultra['gb_used'].mean())\n",
        "print('Медиана:', df_ultra['gb_used'].median())\n",
        "variance = np.var(df_ultra['gb_used'])\n",
        "print('Дисперсия:', variance)\n",
        "standard_deviation = np.sqrt(variance)\n",
        "print('Стандартное отклонение:', standard_deviation)\n",
        "df_ultra['gb_used'].hist()"
      ],
      "execution_count": null,
      "outputs": [
        {
          "output_type": "stream",
          "text": [
            "Для пакета интернета:\n",
            "Среднее: 19.030177268401015\n",
            "Медиана: 18.87109375\n",
            "Дисперсия: 97.11468993002772\n",
            "Стандартное отклонение: 9.854678580756843\n"
          ],
          "name": "stdout"
        },
        {
          "output_type": "execute_result",
          "data": {
            "text/plain": [
              "<matplotlib.axes._subplots.AxesSubplot at 0x7fbcf4ae84d0>"
            ]
          },
          "metadata": {
            "tags": []
          },
          "execution_count": 40
        },
        {
          "output_type": "display_data",
          "data": {
            "image/png": "[encoded data removed]",
            "text/plain": [
              "<Figure size 432x288 with 1 Axes>"
            ]
          },
          "metadata": {
            "tags": [],
            "needs_background": "light"
          }
        }
      ]
    },
    {
      "cell_type": "markdown",
      "metadata": {
        "id": "_EVSEGBDhkgz"
      },
      "source": [
        "Для пользователей тарифа ultra характерно использовать в среднем ~19 гигабайт в месяц."
      ]
    },
    {
      "cell_type": "code",
      "metadata": {
        "id": "YiOl6LYbhkgz",
        "outputId": "57347837-111c-4fa7-83ee-6dee0011eb40"
      },
      "source": [
        "print('Для пакета сообщений:')\n",
        "print('Среднее:', df_ultra['messages'].mean())\n",
        "print('Медиана:', df_ultra['messages'].median())\n",
        "variance = np.var(df_ultra['messages'])\n",
        "print('Дисперсия:', variance)\n",
        "standard_deviation = np.sqrt(variance)\n",
        "print('Стандартное отклонение:', standard_deviation)\n",
        "df_ultra['messages'].hist()"
      ],
      "execution_count": null,
      "outputs": [
        {
          "output_type": "stream",
          "text": [
            "Для пакета сообщений:\n",
            "Среднее: 49.36345177664975\n",
            "Медиана: 38.0\n",
            "Дисперсия: 2282.9460753948824\n",
            "Стандартное отклонение: 47.78018496610161\n"
          ],
          "name": "stdout"
        },
        {
          "output_type": "execute_result",
          "data": {
            "text/plain": [
              "<matplotlib.axes._subplots.AxesSubplot at 0x7fbcf4bb1050>"
            ]
          },
          "metadata": {
            "tags": []
          },
          "execution_count": 41
        },
        {
          "output_type": "display_data",
          "data": {
            "image/png": "[encoded data removed]",
            "text/plain": [
              "<Figure size 432x288 with 1 Axes>"
            ]
          },
          "metadata": {
            "tags": [],
            "needs_background": "light"
          }
        }
      ]
    },
    {
      "cell_type": "markdown",
      "metadata": {
        "id": "wzAEyZKAhkgz"
      },
      "source": [
        "Для пользователей тарифа ultra характерно отправлять в среднем ~40-50 смс в месяц. При этом, многие использую очень мало смс из пакета."
      ]
    },
    {
      "cell_type": "markdown",
      "metadata": {
        "id": "99En5bP7hkgz"
      },
      "source": [
        "<div>\n",
        "    \n",
        "<b> Вывод по анализу обработанных данных</b>\n",
        "    \n",
        "В результате анализа обнаружилось, что большинству людей хватает услуг из своего пакета. Пользователи тарифа Смарт чаще покупают доп.пакеты.\n",
        "    \n",
        "Для пользователей тарифа Смарт характерно разговаривать по телефону в среднем ~400 минут в месяц. А дня пользователей тарифа Ультра это значение равно ~500 минут в месяц.\n",
        "    \n",
        "Для пользователей тарифа Смарт характерно использовать в среднем ~16 гигабайт в месяц. В то время как для пользователей тарифа Ультра характерно использовать в среднем ~19 гигабайт в месяц.\n",
        "    \n",
        "Для пользователей тарифа smart характерно отправлять в среднем ~30 смс в месяц. А для пользователей тарифа Ультра  ~40-50 смс в месяц. При этом, многие пользователи обоих тарифов использую очень мало смс из пакета. \n",
        "</div>"
      ]
    },
    {
      "cell_type": "markdown",
      "metadata": {
        "id": "TYOf0c-Rhkg0"
      },
      "source": [
        "Проверка гипотез\n",
        "========"
      ]
    },
    {
      "cell_type": "markdown",
      "metadata": {
        "id": "d2XqA6cXhkg0"
      },
      "source": [
        "### гипотеза: Средняя выручка пользователей тарифов «Ультра» и «Смарт» различается"
      ]
    },
    {
      "cell_type": "code",
      "metadata": {
        "id": "dmYgRZq5hkg1",
        "outputId": "74dfb8f7-77ff-4ef9-dc25-b0eaba677d2c"
      },
      "source": [
        "print('Средняя выручка от пользователей тарифа smart:', df_smart['tot_price'].mean())\n",
        "print('Средняя выручка от пользователей тарифа ultra:', df_ultra['tot_price'].mean())"
      ],
      "execution_count": null,
      "outputs": [
        {
          "output_type": "stream",
          "text": [
            "Средняя выручка от пользователей тарифа smart: 1233.3494665489009\n",
            "Средняя выручка от пользователей тарифа ultra: 2060.5299710501267\n"
          ],
          "name": "stdout"
        }
      ]
    },
    {
      "cell_type": "markdown",
      "metadata": {
        "id": "BLDBBOGThkg1"
      },
      "source": [
        "Если проверить среднее значение конечной цены для каждого тарифа, то можно подумать, что средняя выручка отличается. Для точности проверю это методом st.ttest_ind()"
      ]
    },
    {
      "cell_type": "code",
      "metadata": {
        "id": "Zgrveqx0hkg1",
        "outputId": "a0998427-0d1e-44cc-c92f-d2afba3be4d5"
      },
      "source": [
        "variance = np.var(df_smart['tot_price'])\n",
        "print('Дисперсия_smart:', variance)\n",
        "variance = np.var(df_ultra['tot_price'])\n",
        "print('Дисперсия_ultra', variance)"
      ],
      "execution_count": null,
      "outputs": [
        {
          "output_type": "stream",
          "text": [
            "Дисперсия_smart: 620174.2528422166\n",
            "Дисперсия_ultra 126824.3988757163\n"
          ],
          "name": "stdout"
        }
      ]
    },
    {
      "cell_type": "markdown",
      "metadata": {
        "id": "-GlkORbMhkg1"
      },
      "source": [
        "Нулевая гипотеза: Выручка пользователей тарифов «Ультра» и «Смарт» одинакова\n",
        "\n",
        "Альтернативная гипотеза: Выручка пользователей тарифов «Ультра» и «Смарт» различается "
      ]
    },
    {
      "cell_type": "code",
      "metadata": {
        "id": "FAZomwgGhkg2",
        "outputId": "89d0b0e4-7ae7-4a6f-ea77-87ddc262e9e9"
      },
      "source": [
        "alpha = 0.05\n",
        "results = st.ttest_ind(df_smart['tot_price'], df_ultra['tot_price'], equal_var = False)\n",
        "print('p-значение:', results.pvalue)\n",
        "\n",
        "if results.pvalue < alpha:\n",
        "    print('Отвергаем нулевую гипотезу')\n",
        "else:\n",
        "    print('Не получилось отвергнуть нулевую гипотезу') "
      ],
      "execution_count": null,
      "outputs": [
        {
          "output_type": "stream",
          "text": [
            "p-значение: 8.931402711366754e-296\n",
            "Отвергаем нулевую гипотезу\n"
          ],
          "name": "stdout"
        }
      ]
    },
    {
      "cell_type": "markdown",
      "metadata": {
        "id": "KwHCzMZJhkg3"
      },
      "source": [
        "Вывод к гипотезе 1:\n",
        "\n",
        "Выручка компании от тарифов \"Ультра\" и \"Смарт\" различается."
      ]
    },
    {
      "cell_type": "markdown",
      "metadata": {
        "id": "z2-eUnqGhkg4"
      },
      "source": [
        "### гипотиза: Средняя выручка пользователей из Москвы отличается от выручки пользователей из других регионов"
      ]
    },
    {
      "cell_type": "code",
      "metadata": {
        "id": "q1jQPq-fhkg4",
        "outputId": "28ee21b1-b8dd-4b50-b0dc-d7ee23155e8d"
      },
      "source": [
        "df_city = pd.read_csv('/datasets/users.csv')\n",
        "df_city = df_city.query('city == \"Москва\"')\n",
        "df_city.head()"
      ],
      "execution_count": null,
      "outputs": [
        {
          "output_type": "execute_result",
          "data": {
            "text/html": [
              "<div>\n",
              "<style scoped>\n",
              "    .dataframe tbody tr th:only-of-type {\n",
              "        vertical-align: middle;\n",
              "    }\n",
              "\n",
              "    .dataframe tbody tr th {\n",
              "        vertical-align: top;\n",
              "    }\n",
              "\n",
              "    .dataframe thead th {\n",
              "        text-align: right;\n",
              "    }\n",
              "</style>\n",
              "<table border=\"1\" class=\"dataframe\">\n",
              "  <thead>\n",
              "    <tr style=\"text-align: right;\">\n",
              "      <th></th>\n",
              "      <th>user_id</th>\n",
              "      <th>age</th>\n",
              "      <th>churn_date</th>\n",
              "      <th>city</th>\n",
              "      <th>first_name</th>\n",
              "      <th>last_name</th>\n",
              "      <th>reg_date</th>\n",
              "      <th>tariff</th>\n",
              "    </tr>\n",
              "  </thead>\n",
              "  <tbody>\n",
              "    <tr>\n",
              "      <td>1</td>\n",
              "      <td>1001</td>\n",
              "      <td>41</td>\n",
              "      <td>NaN</td>\n",
              "      <td>Москва</td>\n",
              "      <td>Иван</td>\n",
              "      <td>Ежов</td>\n",
              "      <td>2018-11-01</td>\n",
              "      <td>smart</td>\n",
              "    </tr>\n",
              "    <tr>\n",
              "      <td>3</td>\n",
              "      <td>1003</td>\n",
              "      <td>23</td>\n",
              "      <td>NaN</td>\n",
              "      <td>Москва</td>\n",
              "      <td>Белла</td>\n",
              "      <td>Белякова</td>\n",
              "      <td>2018-08-17</td>\n",
              "      <td>ultra</td>\n",
              "    </tr>\n",
              "    <tr>\n",
              "      <td>7</td>\n",
              "      <td>1007</td>\n",
              "      <td>65</td>\n",
              "      <td>NaN</td>\n",
              "      <td>Москва</td>\n",
              "      <td>Юна</td>\n",
              "      <td>Березина</td>\n",
              "      <td>2018-04-19</td>\n",
              "      <td>smart</td>\n",
              "    </tr>\n",
              "    <tr>\n",
              "      <td>31</td>\n",
              "      <td>1031</td>\n",
              "      <td>66</td>\n",
              "      <td>NaN</td>\n",
              "      <td>Москва</td>\n",
              "      <td>Лаврентий</td>\n",
              "      <td>Тимофеев</td>\n",
              "      <td>2018-11-02</td>\n",
              "      <td>smart</td>\n",
              "    </tr>\n",
              "    <tr>\n",
              "      <td>33</td>\n",
              "      <td>1033</td>\n",
              "      <td>71</td>\n",
              "      <td>NaN</td>\n",
              "      <td>Москва</td>\n",
              "      <td>Лия</td>\n",
              "      <td>Бабушкина</td>\n",
              "      <td>2018-07-15</td>\n",
              "      <td>smart</td>\n",
              "    </tr>\n",
              "  </tbody>\n",
              "</table>\n",
              "</div>"
            ],
            "text/plain": [
              "    user_id  age churn_date    city first_name  last_name    reg_date tariff\n",
              "1      1001   41        NaN  Москва       Иван       Ежов  2018-11-01  smart\n",
              "3      1003   23        NaN  Москва      Белла   Белякова  2018-08-17  ultra\n",
              "7      1007   65        NaN  Москва        Юна   Березина  2018-04-19  smart\n",
              "31     1031   66        NaN  Москва  Лаврентий   Тимофеев  2018-11-02  smart\n",
              "33     1033   71        NaN  Москва        Лия  Бабушкина  2018-07-15  smart"
            ]
          },
          "metadata": {
            "tags": []
          },
          "execution_count": 45
        }
      ]
    },
    {
      "cell_type": "markdown",
      "metadata": {
        "id": "hUO0p71lhkg4"
      },
      "source": [
        "СОздал таблицу, в которой указаны пользователи только из Москвы"
      ]
    },
    {
      "cell_type": "code",
      "metadata": {
        "id": "iIP73-Rdhkg4"
      },
      "source": [
        "id_price_msk = df_city[\"user_id\"]\n",
        "df_price_msk = df.query('user_id in @id_price_msk')\n",
        "df_price_not_msk = df.query('user_id not in @id_price_msk')"
      ],
      "execution_count": null,
      "outputs": []
    },
    {
      "cell_type": "markdown",
      "metadata": {
        "id": "sV7alU70hkg4"
      },
      "source": [
        "С помощью срезов создал 2 таблицы с данными о минутах, ГБ, смс и ценах: для жителей Москвы и для всех остальных городов."
      ]
    },
    {
      "cell_type": "code",
      "metadata": {
        "id": "R8j7YgpLhkg5",
        "outputId": "197c983f-beff-4be2-bcac-67064396d42e"
      },
      "source": [
        "print('Средняя выручка от пользователей в Москве:', df_price_msk['tot_price'].mean())\n",
        "print('Средняя выручка от пользователей не в Москве:', df_price_not_msk['tot_price'].mean())"
      ],
      "execution_count": null,
      "outputs": [
        {
          "output_type": "stream",
          "text": [
            "Средняя выручка от пользователей в Москве: 1507.276761968085\n",
            "Средняя выручка от пользователей не в Москве: 1482.0637267996062\n"
          ],
          "name": "stdout"
        }
      ]
    },
    {
      "cell_type": "markdown",
      "metadata": {
        "id": "eN9O1MZIhkg5"
      },
      "source": [
        "Если взять среднее значение по столбцам с конечной ценой за услуги в конкретном месяце, то может показаться, что средныы выручка одинакова. Проверим это методом st.ttest_ind()"
      ]
    },
    {
      "cell_type": "code",
      "metadata": {
        "id": "DPm7ux77hkg5",
        "outputId": "17895244-a213-4c52-a2cb-e59a06bb59dc"
      },
      "source": [
        "variance = np.var(df_price_msk['tot_price'])\n",
        "print('Дисперсия_пользователей в Москве:', variance)\n",
        "variance = np.var(df_price_not_msk['tot_price'])\n",
        "print('Дисперсия_пользователей не в Москве', variance)"
      ],
      "execution_count": null,
      "outputs": [
        {
          "output_type": "stream",
          "text": [
            "Дисперсия_пользователей в Москве: 546347.0989109281\n",
            "Дисперсия_пользователей не в Москве 630261.63263902\n"
          ],
          "name": "stdout"
        }
      ]
    },
    {
      "cell_type": "markdown",
      "metadata": {
        "id": "GiLS_QXdhkg5"
      },
      "source": [
        "Нулевая гипотеза: Выручка пользователей из Москвы и пользователей из других регионов одинакова\n",
        "\n",
        "Альтернативная гипотеза: Выручка пользователей из Москвы отличается от выручки пользователей из других регионов"
      ]
    },
    {
      "cell_type": "code",
      "metadata": {
        "id": "3vucGrvXhkg6",
        "outputId": "eb9001d6-a72c-42b3-9a29-6db0cf0017d2"
      },
      "source": [
        "alpha = 0.05\n",
        "results = st.ttest_ind(df_price_msk['tot_price'], df_price_not_msk['tot_price'])\n",
        "print('p-значение:', results.pvalue)\n",
        "\n",
        "if results.pvalue < alpha:\n",
        "    print('Отвергаем нулевую гипотезу')\n",
        "else:\n",
        "    print('Не получилось отвергнуть нулевую гипотезу') "
      ],
      "execution_count": null,
      "outputs": [
        {
          "output_type": "stream",
          "text": [
            "p-значение: 0.47443187631524797\n",
            "Не получилось отвергнуть нулевую гипотезу\n"
          ],
          "name": "stdout"
        }
      ]
    },
    {
      "cell_type": "markdown",
      "metadata": {
        "id": "jwi6ttdMhkg6"
      },
      "source": [
        "Вывод к гипотезе 2:\n",
        "\n",
        "Выручка пользователей из Москвы не отличается от выручки пользователей из других регионов"
      ]
    },
    {
      "cell_type": "markdown",
      "metadata": {
        "id": "0Wt23b3Shkg7"
      },
      "source": [
        "Общий вывод\n",
        "========"
      ]
    },
    {
      "cell_type": "markdown",
      "metadata": {
        "id": "FZQzBUQYhkg7"
      },
      "source": [
        "В рамках данного проекта выполнил анализ данных о пользователях двух тарифов.\n",
        "Для этого объединил исходные таблицы в одну основную таблицу. Посчитал количество минут, ГБ и смс, которые каждый пользователь потратил сверх твоего пакета, и сколько придется заплатить за них. Посчитал, сколько пользователь заплатил в месяц, с учетом перерасхода пакета услуг.\n",
        "    \n",
        "При подготовке данных заметил, что в некоторых ячейках отсутствуют значения (т.е. значение ячейки равно \"NaN\"). Для того, чтобы можно было производить необходимые операции с данными ячейками, заменил их на ноль.\n",
        "    \n",
        "Также заметил, что в исходной таблице с количеством использованных мегабайт есть нулевые значения. Получается, что пользователь начал новую интернет-сессию, но мегабайты при этом не расходуются. Возможно это связано с тем, что пользователь тратит несколько килобайт, что свляется ниже порогового значения, от которого начинается запись в таблицу. \n",
        "\n",
        "Затем, в результате анализа обработанных данных обнаружил, что большинству людей хватает услуг из своего пакета. При этом пользователи тарифа Смарт чаще покупают доп.пакеты.\n",
        "    \n",
        "Для пользователей тарифа Смарт характерно разговаривать по телефону в среднем ~400 минут в месяц. А дня пользователей тарифа Ультра это значение равно ~500 минут в месяц.\n",
        "    \n",
        "Для пользователей тарифа Смарт характерно использовать в среднем ~16 гигабайт в месяц. В то время как для пользователей тарифа Ультра характерно использовать в среднем ~19 гигабайт в месяц.\n",
        "    \n",
        "Для пользователей тарифа smart характерно отправлять в среднем ~30 смс в месяц. А для пользователей тарифа Ультра  ~40-50 смс в месяц. При этом, многие пользователи обоих тарифов использую очень мало смс из пакета. \n",
        "\n",
        "Поскольку удалось доказать гипотезу \"Выручка пользователей тарифов «Ультра» и «Смарт» различается\" то ,исходя из средней выручки компании от двух тарифов, можно сказать, что тариф Ультра более выгоден компании. Средняя выручка компании от пользователей тарифа Смарт равняется 1233 рубля в месяц, тогда как для тарифа Ультра средняя выручка равна 2060 рублей в месяц."
      ]
    },
    {
      "cell_type": "markdown",
      "metadata": {
        "id": "fSWGQR75hkg8"
      },
      "source": [
        "-"
      ]
    }
  ]
}